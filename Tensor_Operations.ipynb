{
  "nbformat": 4,
  "nbformat_minor": 0,
  "metadata": {
    "colab": {
      "provenance": [],
      "gpuType": "T4",
      "authorship_tag": "ABX9TyP1T9ERegZi0FfeVdvPyLCK",
      "include_colab_link": true
    },
    "kernelspec": {
      "name": "python3",
      "display_name": "Python 3"
    },
    "language_info": {
      "name": "python"
    },
    "accelerator": "GPU"
  },
  "cells": [
    {
      "cell_type": "markdown",
      "metadata": {
        "id": "view-in-github",
        "colab_type": "text"
      },
      "source": [
        "<a href=\"https://colab.research.google.com/github/VectorJamo/Deep-Learning/blob/main/Tensor_Operations.ipynb\" target=\"_parent\"><img src=\"https://colab.research.google.com/assets/colab-badge.svg\" alt=\"Open In Colab\"/></a>"
      ]
    },
    {
      "cell_type": "code",
      "source": [
        "# Tensors\n",
        "import torch\n",
        "import numpy as np"
      ],
      "metadata": {
        "id": "_NGH9bdggCBg"
      },
      "execution_count": 1,
      "outputs": []
    },
    {
      "cell_type": "code",
      "source": [
        "# @title Numpy arrays\n",
        "\n",
        "numpy_array = np.array([1, 2, 3])\n",
        "print(numpy_array)\n",
        "\n",
        "numpy_random_2d = np.random.rand(3, 3)\n",
        "print(numpy_random_2d)"
      ],
      "metadata": {
        "collapsed": true,
        "cellView": "form",
        "id": "qPcusqq_D7r1",
        "outputId": "20db6e97-eacc-4d17-f142-ed279f438fea",
        "colab": {
          "base_uri": "https://localhost:8080/"
        }
      },
      "execution_count": 12,
      "outputs": [
        {
          "output_type": "stream",
          "name": "stdout",
          "text": [
            "[1 2 3]\n",
            "[[0.97178925 0.2835551  0.96204448]\n",
            " [0.02512448 0.38652883 0.44453141]\n",
            " [0.28428978 0.25184487 0.33383861]]\n"
          ]
        }
      ]
    },
    {
      "cell_type": "code",
      "source": [
        "# @title Tensors\n",
        "\n",
        "tensor_array_2d = torch.rand(3, 3)\n",
        "print(tensor_array_2d)\n",
        "\n",
        "# Think of a 3 dimesional tensor as an array of 3 matrices each with dimensions of 2x4\n",
        "tensor_array_3d = torch.rand(3, 2, 4)\n",
        "print(tensor_array_3d)\n",
        "\n"
      ],
      "metadata": {
        "cellView": "form",
        "collapsed": true,
        "id": "T5bXfGFaEMHc",
        "outputId": "89e6d58a-31b9-43c3-9cba-5bb89ee6f5f0",
        "colab": {
          "base_uri": "https://localhost:8080/"
        }
      },
      "execution_count": 10,
      "outputs": [
        {
          "output_type": "stream",
          "name": "stdout",
          "text": [
            "tensor([[0.2371, 0.5589, 0.4045],\n",
            "        [0.5459, 0.2910, 0.6170],\n",
            "        [0.6208, 0.1311, 0.2534]])\n",
            "tensor([[[0.0133, 0.2281, 0.6500, 0.2903],\n",
            "         [0.3579, 0.8495, 0.2414, 0.0706]],\n",
            "\n",
            "        [[0.3750, 0.8283, 0.6298, 0.4614],\n",
            "         [0.2597, 0.1592, 0.8475, 0.0039]],\n",
            "\n",
            "        [[0.8451, 0.2804, 0.7788, 0.4519],\n",
            "         [0.6203, 0.4174, 0.1449, 0.6443]]])\n"
          ]
        }
      ]
    },
    {
      "cell_type": "code",
      "source": [
        "# Create tensor out of numpy array\n",
        "tensor_from_numpy = torch.from_numpy(numpy_array)\n",
        "print(tensor_from_numpy)"
      ],
      "metadata": {
        "id": "vFwhW_BSEcLN",
        "outputId": "a44e0cea-f7e9-4292-c589-72e0fb2ba56a",
        "colab": {
          "base_uri": "https://localhost:8080/"
        }
      },
      "execution_count": 11,
      "outputs": [
        {
          "output_type": "stream",
          "name": "stdout",
          "text": [
            "tensor([1, 2, 3])\n"
          ]
        }
      ]
    },
    {
      "cell_type": "code",
      "source": [
        "my_tensor = torch.arange(10)\n",
        "print(my_tensor)"
      ],
      "metadata": {
        "id": "muObNv1qE0h9",
        "outputId": "95fa1e9a-32f2-412e-f7b6-e62fb1f06939",
        "colab": {
          "base_uri": "https://localhost:8080/"
        }
      },
      "execution_count": 17,
      "outputs": [
        {
          "output_type": "stream",
          "name": "stdout",
          "text": [
            "tensor([0, 1, 2, 3, 4, 5, 6, 7, 8, 9])\n"
          ]
        }
      ]
    },
    {
      "cell_type": "code",
      "source": [
        "# Reshape tensors\n",
        "my_tensor = my_tensor.reshape(2, 5)\n",
        "print(my_tensor)\n",
        "\n",
        "# Reshape if we dont know the number of items in the tensor\n",
        "# Here, 5 says make 5 rows and -1 says populate the new tensor in such a way that you get 5 even rows of data.\n",
        "my_tensor = my_tensor.reshape(5, -1)\n",
        "print(my_tensor)"
      ],
      "metadata": {
        "id": "U-HThoMJFKI1",
        "outputId": "6aafede3-a3ff-47a5-e79b-5d2e654e854e",
        "colab": {
          "base_uri": "https://localhost:8080/"
        }
      },
      "execution_count": 19,
      "outputs": [
        {
          "output_type": "stream",
          "name": "stdout",
          "text": [
            "tensor([[0, 1, 2, 3, 4],\n",
            "        [5, 6, 7, 8, 9]])\n",
            "tensor([[0, 1],\n",
            "        [2, 3],\n",
            "        [4, 5],\n",
            "        [6, 7],\n",
            "        [8, 9]])\n"
          ]
        }
      ]
    },
    {
      "cell_type": "code",
      "source": [],
      "metadata": {
        "id": "bvfGFI4DFhnl"
      },
      "execution_count": null,
      "outputs": []
    }
  ]
}