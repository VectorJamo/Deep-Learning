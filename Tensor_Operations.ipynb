{
  "nbformat": 4,
  "nbformat_minor": 0,
  "metadata": {
    "colab": {
      "provenance": [],
      "gpuType": "T4",
      "authorship_tag": "ABX9TyOhv+33UeBWaRExJYg9Sqac",
      "include_colab_link": true
    },
    "kernelspec": {
      "name": "python3",
      "display_name": "Python 3"
    },
    "language_info": {
      "name": "python"
    },
    "accelerator": "GPU"
  },
  "cells": [
    {
      "cell_type": "markdown",
      "metadata": {
        "id": "view-in-github",
        "colab_type": "text"
      },
      "source": [
        "<a href=\"https://colab.research.google.com/github/VectorJamo/Deep-Learning/blob/main/Tensor_Operations.ipynb\" target=\"_parent\"><img src=\"https://colab.research.google.com/assets/colab-badge.svg\" alt=\"Open In Colab\"/></a>"
      ]
    },
    {
      "cell_type": "code",
      "source": [
        "# Tensors\n",
        "import torch\n",
        "import numpy as np"
      ],
      "metadata": {
        "id": "_NGH9bdggCBg"
      },
      "execution_count": 1,
      "outputs": []
    },
    {
      "cell_type": "code",
      "source": [
        "# @title Numpy arrays\n",
        "\n",
        "numpy_array = np.array([1, 2, 3])\n",
        "print(numpy_array)\n",
        "\n",
        "numpy_random_2d = np.random.rand(3, 3)\n",
        "print(numpy_random_2d)"
      ],
      "metadata": {
        "collapsed": true,
        "colab": {
          "base_uri": "https://localhost:8080/"
        },
        "cellView": "form",
        "id": "qPcusqq_D7r1",
        "outputId": "6f26c12d-0466-447c-d33a-86059ce469ee"
      },
      "execution_count": 28,
      "outputs": [
        {
          "output_type": "stream",
          "name": "stdout",
          "text": [
            "[1 2 3]\n",
            "[[0.69333478 0.4054503  0.75598161]\n",
            " [0.55058715 0.2353924  0.68221985]\n",
            " [0.17069925 0.77038619 0.79824931]]\n"
          ]
        }
      ]
    },
    {
      "cell_type": "code",
      "source": [
        "\n",
        "tensor_array_2d = torch.rand(3, 3)\n",
        "print(tensor_array_2d)\n",
        "\n",
        "# Think of a 3 dimesional tensor as an array of 3 matrices each with dimensions of 2x4\n",
        "tensor_array_3d = torch.rand(3, 2, 4)\n",
        "print(tensor_array_3d)\n",
        "\n"
      ],
      "metadata": {
        "collapsed": true,
        "colab": {
          "base_uri": "https://localhost:8080/"
        },
        "id": "T5bXfGFaEMHc",
        "outputId": "d91e6486-1ab8-4894-efbc-56c004107fc2"
      },
      "execution_count": 25,
      "outputs": [
        {
          "output_type": "stream",
          "name": "stdout",
          "text": [
            "tensor([[0.9158, 0.8096, 0.0477],\n",
            "        [0.8401, 0.5628, 0.3430],\n",
            "        [0.5223, 0.9997, 0.9029]])\n",
            "tensor([[[0.0843, 0.9566, 0.7307, 0.9435],\n",
            "         [0.1656, 0.9560, 0.6398, 0.9834]],\n",
            "\n",
            "        [[0.9991, 0.7177, 0.5583, 0.4188],\n",
            "         [0.1772, 0.0906, 0.8905, 0.5456]],\n",
            "\n",
            "        [[0.8438, 0.3976, 0.1905, 0.8793],\n",
            "         [0.2822, 0.4136, 0.9695, 0.7005]]])\n"
          ]
        }
      ]
    },
    {
      "cell_type": "code",
      "source": [
        "# Create tensor out of numpy array\n",
        "tensor_from_numpy = torch.from_numpy(numpy_array)\n",
        "print(tensor_from_numpy)"
      ],
      "metadata": {
        "colab": {
          "base_uri": "https://localhost:8080/"
        },
        "id": "vFwhW_BSEcLN",
        "outputId": "a44e0cea-f7e9-4292-c589-72e0fb2ba56a"
      },
      "execution_count": 11,
      "outputs": [
        {
          "output_type": "stream",
          "name": "stdout",
          "text": [
            "tensor([1, 2, 3])\n"
          ]
        }
      ]
    },
    {
      "cell_type": "code",
      "source": [
        "my_tensor = torch.arange(10)\n",
        "print(my_tensor)"
      ],
      "metadata": {
        "colab": {
          "base_uri": "https://localhost:8080/"
        },
        "id": "muObNv1qE0h9",
        "outputId": "1d4d1ca8-1618-4d5a-c0ca-5df897badf06"
      },
      "execution_count": 22,
      "outputs": [
        {
          "output_type": "stream",
          "name": "stdout",
          "text": [
            "tensor([0, 1, 2, 3, 4, 5, 6, 7, 8, 9])\n"
          ]
        }
      ]
    },
    {
      "cell_type": "code",
      "source": [
        "# Reshape tensors\n",
        "my_tensor = my_tensor.reshape(2, 5)\n",
        "print(my_tensor)\n",
        "\n",
        "# Reshape if we dont know the number of items in the tensor\n",
        "# Here, 5 says make 5 rows and -1 says populate the new tensor in such a way that you get 5 even rows of data.\n",
        "my_tensor = my_tensor.reshape(5, -1)\n",
        "print(my_tensor)\n",
        "\n",
        "my_tensor = torch.arange(10)\n",
        "my_tensor = my_tensor.reshape(-1, 5)\n",
        "print(my_tensor)"
      ],
      "metadata": {
        "colab": {
          "base_uri": "https://localhost:8080/"
        },
        "id": "U-HThoMJFKI1",
        "outputId": "b19174d6-7c10-42cc-9c10-fe7910917d35"
      },
      "execution_count": 24,
      "outputs": [
        {
          "output_type": "stream",
          "name": "stdout",
          "text": [
            "tensor([[0, 1, 2, 3, 4],\n",
            "        [5, 6, 7, 8, 9]])\n",
            "tensor([[0, 1],\n",
            "        [2, 3],\n",
            "        [4, 5],\n",
            "        [6, 7],\n",
            "        [8, 9]])\n",
            "tensor([[0, 1, 2, 3, 4],\n",
            "        [5, 6, 7, 8, 9]])\n"
          ]
        }
      ]
    },
    {
      "cell_type": "code",
      "source": [
        "# Tensor math operations\n",
        "tensor1 = torch.tensor([1, 2, 3])\n",
        "tensor2 = torch.tensor([4, 5, 6])"
      ],
      "metadata": {
        "id": "bvfGFI4DFhnl"
      },
      "execution_count": 36,
      "outputs": []
    },
    {
      "cell_type": "code",
      "source": [
        "# Element wise addition\n",
        "print(tensor1 + tensor2)"
      ],
      "metadata": {
        "id": "6dyIh5-THjG8",
        "outputId": "b367b941-a7af-4b47-e9fc-44084ff64daa",
        "colab": {
          "base_uri": "https://localhost:8080/"
        }
      },
      "execution_count": 37,
      "outputs": [
        {
          "output_type": "stream",
          "name": "stdout",
          "text": [
            "tensor([5, 7, 9])\n"
          ]
        }
      ]
    },
    {
      "cell_type": "code",
      "source": [
        "# Element wise subtraction\n",
        "print(tensor1 - tensor2)"
      ],
      "metadata": {
        "id": "EYskpzqSHm1c",
        "outputId": "cd4f4304-4c79-43a8-adff-55b2445c4874",
        "colab": {
          "base_uri": "https://localhost:8080/"
        }
      },
      "execution_count": 38,
      "outputs": [
        {
          "output_type": "stream",
          "name": "stdout",
          "text": [
            "tensor([-3, -3, -3])\n"
          ]
        }
      ]
    },
    {
      "cell_type": "code",
      "source": [
        "# Same for tensor wise multiplication and division\n",
        "print(tensor1 * tensor2)\n",
        "print(tensor1 / tensor2)"
      ],
      "metadata": {
        "id": "BQg3wyzTHv-k",
        "outputId": "464c2fd6-f4d6-42de-c5d9-7e4be0ecff8b",
        "colab": {
          "base_uri": "https://localhost:8080/"
        }
      },
      "execution_count": 40,
      "outputs": [
        {
          "output_type": "stream",
          "name": "stdout",
          "text": [
            "tensor([ 4, 10, 18])\n",
            "tensor([0.2500, 0.4000, 0.5000])\n"
          ]
        }
      ]
    },
    {
      "cell_type": "code",
      "source": [
        "# Modular operation\n",
        "print(tensor1 % tensor2)"
      ],
      "metadata": {
        "id": "WycEL5K3H3fH",
        "outputId": "b5ae1dc9-fa10-4515-d829-02def4c27f49",
        "colab": {
          "base_uri": "https://localhost:8080/"
        }
      },
      "execution_count": 41,
      "outputs": [
        {
          "output_type": "stream",
          "name": "stdout",
          "text": [
            "tensor([1, 2, 3])\n"
          ]
        }
      ]
    },
    {
      "cell_type": "code",
      "source": [
        "# Exponents\n",
        "print(tensor1 ** tensor2)"
      ],
      "metadata": {
        "id": "r-KKMYr3IDLF",
        "outputId": "678cac61-3f17-4206-c8e1-d317d8c15b7a",
        "colab": {
          "base_uri": "https://localhost:8080/"
        }
      },
      "execution_count": 42,
      "outputs": [
        {
          "output_type": "stream",
          "name": "stdout",
          "text": [
            "tensor([  1,  32, 729])\n"
          ]
        }
      ]
    },
    {
      "cell_type": "code",
      "source": [
        "# Tensor assignment\n",
        "tensor1  = tensor1 + tensor2\n",
        "print(tensor1)"
      ],
      "metadata": {
        "id": "BTKLgQ9zIIw-",
        "outputId": "48efdb98-a1df-457f-c526-08f611a5a8c5",
        "colab": {
          "base_uri": "https://localhost:8080/"
        }
      },
      "execution_count": 44,
      "outputs": [
        {
          "output_type": "stream",
          "name": "stdout",
          "text": [
            "tensor([ 9, 12, 15])\n"
          ]
        }
      ]
    },
    {
      "cell_type": "code",
      "source": [],
      "metadata": {
        "id": "68dxk17qIY2s"
      },
      "execution_count": null,
      "outputs": []
    }
  ]
}