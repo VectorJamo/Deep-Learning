{
  "nbformat": 4,
  "nbformat_minor": 0,
  "metadata": {
    "colab": {
      "provenance": [],
      "authorship_tag": "ABX9TyObOC69bmyz87FOWC+0mDtw",
      "include_colab_link": true
    },
    "kernelspec": {
      "name": "python3",
      "display_name": "Python 3"
    },
    "language_info": {
      "name": "python"
    }
  },
  "cells": [
    {
      "cell_type": "markdown",
      "metadata": {
        "id": "view-in-github",
        "colab_type": "text"
      },
      "source": [
        "<a href=\"https://colab.research.google.com/github/VectorJamo/Deep-Learning/blob/main/Feed_Forward_Neural_Network.ipynb\" target=\"_parent\"><img src=\"https://colab.research.google.com/assets/colab-badge.svg\" alt=\"Open In Colab\"/></a>"
      ]
    },
    {
      "cell_type": "code",
      "execution_count": 3,
      "metadata": {
        "id": "CKP6HBZrIkui"
      },
      "outputs": [],
      "source": [
        "# A basic(vanilla) form of a neural network. Contains an input layer, 2 hidden layers and an output layer.\n",
        "# The problem: Given 4 different input features of an Iris plant, determine its type (standard classification problem).\n",
        "# Where, the 4 features are: sepal length, sepal width, petal length, petal width\n",
        "# And, the types are: Iris Setosa, Iris Versicolour and Iris Virginica\n",
        "import torch\n",
        "import torch.nn as nn # The blueprint for a neural network\n",
        "import torch.nn.functional as F #"
      ]
    },
    {
      "cell_type": "code",
      "source": [
        "# Create the model\n",
        "class Model(nn.Module):\n",
        "  def __init__(self, )"
      ],
      "metadata": {
        "id": "UYFAsOv3JNh1"
      },
      "execution_count": null,
      "outputs": []
    }
  ]
}