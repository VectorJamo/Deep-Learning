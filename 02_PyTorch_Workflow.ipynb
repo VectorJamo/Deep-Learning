{
  "nbformat": 4,
  "nbformat_minor": 0,
  "metadata": {
    "colab": {
      "provenance": [],
      "toc_visible": true,
      "gpuType": "T4",
      "authorship_tag": "ABX9TyMEpVAr58U65dRe4qzWGLB6",
      "include_colab_link": true
    },
    "kernelspec": {
      "name": "python3",
      "display_name": "Python 3"
    },
    "language_info": {
      "name": "python"
    },
    "accelerator": "GPU"
  },
  "cells": [
    {
      "cell_type": "markdown",
      "metadata": {
        "id": "view-in-github",
        "colab_type": "text"
      },
      "source": [
        "<a href=\"https://colab.research.google.com/github/VectorJamo/Deep-Learning/blob/main/02_PyTorch_Workflow.ipynb\" target=\"_parent\"><img src=\"https://colab.research.google.com/assets/colab-badge.svg\" alt=\"Open In Colab\"/></a>"
      ]
    },
    {
      "cell_type": "code",
      "execution_count": null,
      "metadata": {
        "id": "NVAoMHKSg8yU",
        "colab": {
          "base_uri": "https://localhost:8080/",
          "height": 35
        },
        "outputId": "0f6f5cff-31b6-486e-8549-811eacd6eac2"
      },
      "outputs": [
        {
          "output_type": "execute_result",
          "data": {
            "text/plain": [
              "'2.5.1+cu121'"
            ],
            "application/vnd.google.colaboratory.intrinsic+json": {
              "type": "string"
            }
          },
          "metadata": {},
          "execution_count": 229
        }
      ],
      "source": [
        "import torch\n",
        "from torch import nn\n",
        "import numpy as np\n",
        "import matplotlib.pyplot as plt\n",
        "%matplotlib inline\n",
        "\n",
        "torch.__version__"
      ]
    },
    {
      "cell_type": "markdown",
      "source": [
        "### PyTorch Workflow\n",
        "1. Convert the data into Tensors\n",
        "2. Pick a training algorithm, loss function and an optimizer\n",
        "3. Build the training loop\n",
        "4. Build the model(Get the model parameters)\n",
        "5. Use the model for inference(prediction)\n",
        "\n",
        "\n"
      ],
      "metadata": {
        "id": "HAR0bnYCkVVX"
      }
    },
    {
      "cell_type": "code",
      "source": [
        "# We will be implmenting Linear Regression in PyTorch\n",
        "\n",
        "# Create the learnable parameters\n",
        "weight = 0.2\n",
        "bias = 1\n",
        "\n",
        "# Create a sample dataset\n",
        "start = 0\n",
        "stop = 10\n",
        "step  = 0.1\n",
        "\n",
        "X = torch.arange(start, stop, step).unsqueeze(dim=1) # Features\n",
        "y = weight*X + bias # Labels\n",
        "X[:10], y[:10]"
      ],
      "metadata": {
        "colab": {
          "base_uri": "https://localhost:8080/"
        },
        "id": "vnHJJuqZG0am",
        "outputId": "f38d94f7-4b7a-44f7-ef42-deacacc10edb"
      },
      "execution_count": null,
      "outputs": [
        {
          "output_type": "execute_result",
          "data": {
            "text/plain": [
              "(tensor([[0.0000],\n",
              "         [0.1000],\n",
              "         [0.2000],\n",
              "         [0.3000],\n",
              "         [0.4000],\n",
              "         [0.5000],\n",
              "         [0.6000],\n",
              "         [0.7000],\n",
              "         [0.8000],\n",
              "         [0.9000]]),\n",
              " tensor([[1.0000],\n",
              "         [1.0200],\n",
              "         [1.0400],\n",
              "         [1.0600],\n",
              "         [1.0800],\n",
              "         [1.1000],\n",
              "         [1.1200],\n",
              "         [1.1400],\n",
              "         [1.1600],\n",
              "         [1.1800]]))"
            ]
          },
          "metadata": {},
          "execution_count": 230
        }
      ]
    },
    {
      "cell_type": "markdown",
      "source": [
        "**Split the data into training and testing set**\n",
        "\n",
        "Training set: 60-80% of the original dataset\n",
        "\n",
        "Testing set: 20-30% of the original dataset"
      ],
      "metadata": {
        "id": "I-jNQ3ynIPob"
      }
    },
    {
      "cell_type": "code",
      "source": [
        "training_ratio = 0.8 # 80% of the original dataset\n",
        "num_training_data = int(len(X) * training_ratio)\n",
        "\n",
        "X_train, y_train = X[:num_training_data], y[:num_training_data]\n",
        "X_test, y_test = X[num_training_data:], y[num_training_data:]\n",
        "\n",
        "len(X_train), len(X_test)"
      ],
      "metadata": {
        "colab": {
          "base_uri": "https://localhost:8080/"
        },
        "id": "wB4u68SsKBpl",
        "outputId": "0e04f778-d8e6-48f7-c2b5-81f9a24d1c93"
      },
      "execution_count": null,
      "outputs": [
        {
          "output_type": "execute_result",
          "data": {
            "text/plain": [
              "(80, 20)"
            ]
          },
          "metadata": {},
          "execution_count": 231
        }
      ]
    },
    {
      "cell_type": "markdown",
      "source": [
        "**Visualize the data**"
      ],
      "metadata": {
        "id": "RzzU_OOcLBM0"
      }
    },
    {
      "cell_type": "code",
      "source": [
        "def plot_predictions(train_data=X_train,\n",
        "                     train_labels=y_train,\n",
        "                     test_data=X_test,\n",
        "                     test_labels=y_test,\n",
        "                     predictions=None):\n",
        "  \"\"\"\n",
        "  Plots training data, test data and compares predictions.\n",
        "  \"\"\"\n",
        "  plt.figure(figsize=(10, 8)) # Size of the axes\n",
        "\n",
        "  # Plot training data in blue\n",
        "  plt.scatter(train_data, train_labels, c=\"b\", s=4, label=\"Training data\") # c = color, s = size\n",
        "\n",
        "  # Plot test data in green\n",
        "  plt.scatter(test_data, test_labels, c=\"g\", s=4, label=\"Testing data\")\n",
        "\n",
        "  if predictions is not None:\n",
        "    # Plot the predictions in red (predictions were made on the test data)\n",
        "    plt.scatter(test_data, predictions, c=\"r\", s=4, label=\"Predictions\")\n",
        "\n",
        "  # Show the legend\n",
        "  plt.legend(prop={\"size\": 14});"
      ],
      "metadata": {
        "id": "RiwGIcqRLNK7"
      },
      "execution_count": null,
      "outputs": []
    },
    {
      "cell_type": "code",
      "source": [
        "plot_predictions()"
      ],
      "metadata": {
        "colab": {
          "base_uri": "https://localhost:8080/",
          "height": 676
        },
        "id": "zEwoOAVELaeP",
        "outputId": "c5ef269d-51bf-4826-a9ef-143c7abdb991"
      },
      "execution_count": null,
      "outputs": [
        {
          "output_type": "display_data",
          "data": {
            "text/plain": [
              "<Figure size 1000x800 with 1 Axes>"
            ],
            "image/png": "[encoded data removed]"
          },
          "metadata": {}
        }
      ]
    },
    {
      "cell_type": "markdown",
      "source": [
        "**Build the model**"
      ],
      "metadata": {
        "id": "Dj9IuaInMS5q"
      }
    },
    {
      "cell_type": "code",
      "source": [
        "class LinearRegressionModel(nn.Module):\n",
        "  def __init__(self):\n",
        "    super().__init__()\n",
        "    self.weights = nn.Parameter(torch.randn(1), requires_grad=True) # Start with a random weight value.\n",
        "    self.bias = nn.Parameter(torch.randn(1), requires_grad=True) # Start with a random bias value.\n",
        "\n",
        "  # Specify the forward computation (the calculations to be made with our input tensors).\n",
        "  def forward(self, X_train):\n",
        "    y = self.weights * X_train + self.bias\n",
        "    return y"
      ],
      "metadata": {
        "id": "NGFefrr6L0cL"
      },
      "execution_count": null,
      "outputs": []
    },
    {
      "cell_type": "code",
      "source": [
        "# So that we can reproduce the random values of our parameters in the future if needed\n",
        "torch.manual_seed(40)\n",
        "\n",
        "# Create the model instance\n",
        "model = LinearRegressionModel()\n",
        "# List the parameters\n",
        "for x in model.named_parameters():\n",
        "  print(x)"
      ],
      "metadata": {
        "colab": {
          "base_uri": "https://localhost:8080/"
        },
        "id": "TGKfZA3OM5w4",
        "outputId": "1aa54b7c-bda2-4349-a131-eec1609a6ea9"
      },
      "execution_count": null,
      "outputs": [
        {
          "output_type": "stream",
          "name": "stdout",
          "text": [
            "('weights', Parameter containing:\n",
            "tensor([0.9307], requires_grad=True))\n",
            "('bias', Parameter containing:\n",
            "tensor([-0.3482], requires_grad=True))\n"
          ]
        }
      ]
    },
    {
      "cell_type": "code",
      "source": [
        "# List the model's state values with contains the model parameters\n",
        "model.state_dict()"
      ],
      "metadata": {
        "colab": {
          "base_uri": "https://localhost:8080/"
        },
        "id": "InyQNpy1O8U6",
        "outputId": "fc14b695-fe28-4156-e63d-562c069727df"
      },
      "execution_count": null,
      "outputs": [
        {
          "output_type": "execute_result",
          "data": {
            "text/plain": [
              "OrderedDict([('weights', tensor([0.9307])), ('bias', tensor([-0.3482]))])"
            ]
          },
          "metadata": {},
          "execution_count": 236
        }
      ]
    },
    {
      "cell_type": "markdown",
      "source": [
        "**Making Predictions (before training, using those random weights and biases)**"
      ],
      "metadata": {
        "id": "LGOc27JeTKWK"
      }
    },
    {
      "cell_type": "code",
      "source": [
        "# Turn off gradient calculations\n",
        "with torch.no_grad():\n",
        "  y_predictions = model.forward(X_test)"
      ],
      "metadata": {
        "id": "1ZV6fThWSvJ9"
      },
      "execution_count": null,
      "outputs": []
    },
    {
      "cell_type": "code",
      "source": [
        "plot_predictions(predictions=y_predictions)"
      ],
      "metadata": {
        "colab": {
          "base_uri": "https://localhost:8080/",
          "height": 676
        },
        "id": "OOl5ZmVsUgxb",
        "outputId": "8d7a9307-8cc1-42fe-96f2-ec56b802a8b0"
      },
      "execution_count": null,
      "outputs": [
        {
          "output_type": "display_data",
          "data": {
            "text/plain": [
              "<Figure size 1000x800 with 1 Axes>"
            ],
            "image/png": "[encoded data removed]"
          },
          "metadata": {}
        }
      ]
    },
    {
      "cell_type": "markdown",
      "source": [
        "The predictions are very bad, which is obvious since we are using the random values of weights and biases for our prediction. Now, let's train the model and update those parameters to better fit out data."
      ],
      "metadata": {
        "id": "hTx-kOcQVOz5"
      }
    },
    {
      "cell_type": "markdown",
      "source": [
        "**Train the model**\n",
        "\n",
        "Creating the loss function and the optimizer\n",
        "\n",
        "**Loss function**: Calculates how wrong the model was in its prediction. In linear regression, it is defined as the square of the difference between the predicted value and the actual value(mean squared error(MAE) loss)\n",
        "\n",
        "**Optimizer**: Tells the model how to change(optimize) the parameter values to reduce the loss. Commonly used one is the Stochastic Gradient Descent(SGD) where we take small steps in the direction that reduces the loss.\n"
      ],
      "metadata": {
        "id": "1Yp20uDGV4wV"
      }
    },
    {
      "cell_type": "code",
      "source": [
        "# Create the loss function\n",
        "loss_function = nn.L1Loss()\n",
        "\n",
        "# Create the optimizer function\n",
        "learning_rate = 0.005 # How big the gradient descent steps should be\n",
        "optimizer = torch.optim.SGD(params=model.parameters(), lr=learning_rate)"
      ],
      "metadata": {
        "id": "JiCId-n6Upq3"
      },
      "execution_count": null,
      "outputs": []
    },
    {
      "cell_type": "markdown",
      "source": [
        "### Creating the training loop\n",
        "1. **Forward pass**: The model calculates(predicts) the labels using the input training data and the initial parameter values\n",
        "2. **Calculate the loss**: The model computues the loss using its predictions and the actual value of the labels.\n",
        "3. **Backpropagation**: Compute the partial derivate of the loss function with respect to each parameter to see when the value of a parameter is nudged up a little bit, what happens to the loss(the loss increases or decreases). This partial derivate is calculated for all the model parameters and its effects on the loss(the gradient) is stored to perform gradient descent.\n",
        "4. **Gradient descent**: Change the values of the parameters such that the training loss decreases using the gradients computed during backpropagtion and the learing rate defined by the programmer.\n",
        "\n",
        "\n",
        "These steps are done for many rounds(epochs) until the loss between the training rounds doesnot change by that much.\n",
        "\n",
        "The loss is calculated by our **loss function** and backpropagation and gradient descent is computed by our **optimizer function**."
      ],
      "metadata": {
        "id": "9Kcd7s1pYvIC"
      }
    },
    {
      "cell_type": "code",
      "source": [
        "epochs = 1000 # Total number of training rounds. This is the number of times our model with go through the entire data set and\n",
        "# compute all the above mentioned steps.\n",
        "training_loss = {}\n",
        "\n",
        "# Put the model in training mode (this is the default one)\n",
        "model.train()\n",
        "\n",
        "# Training loop\n",
        "for i in range(0, epochs):\n",
        "\n",
        "  # Forward pass\n",
        "  y_pred = model.forward(X_train)\n",
        "\n",
        "  # Calculate the loss\n",
        "  loss = loss_function(y_pred, y_train)\n",
        "\n",
        "  # Gradients are accumulated in the .grad attribute of each parameter.\n",
        "  # The function below clears the gradients of all parameters from previous .backward() call\n",
        "  optimizer.zero_grad()\n",
        "\n",
        "  # Do backpropagation (compute the gradients(partial derivatives of the loss function w.r.t each parameter)).\n",
        "  # These are then stored into parameter.grad for every parameter.\n",
        "  loss.backward()\n",
        "\n",
        "  # Update the parameters based on the gradients computed above\n",
        "  optimizer.step()\n",
        "\n",
        "  if i%5 == 0:\n",
        "    training_loss[i] = loss.item()"
      ],
      "metadata": {
        "id": "BQLA4CpsYwct"
      },
      "execution_count": null,
      "outputs": []
    },
    {
      "cell_type": "code",
      "source": [
        "for epoch, loss in training_loss.items():\n",
        "  print(\"Loss:\", loss)"
      ],
      "metadata": {
        "colab": {
          "base_uri": "https://localhost:8080/"
        },
        "id": "7VZmeZE6drk3",
        "outputId": "0ab78958-0e9a-4898-b089-933990d07fc6"
      },
      "execution_count": null,
      "outputs": [
        {
          "output_type": "stream",
          "name": "stdout",
          "text": [
            "Loss: 1.86614990234375\n",
            "Loss: 1.5582295656204224\n",
            "Loss: 1.279961347579956\n",
            "Loss: 1.0379469394683838\n",
            "Loss: 0.8450849652290344\n",
            "Loss: 0.7089526653289795\n",
            "Loss: 0.6299958229064941\n",
            "Loss: 0.5927217602729797\n",
            "Loss: 0.5788723230361938\n",
            "Loss: 0.5722231268882751\n",
            "Loss: 0.5673797726631165\n",
            "Loss: 0.5631296634674072\n",
            "Loss: 0.5588797330856323\n",
            "Loss: 0.5546297430992126\n",
            "Loss: 0.550379753112793\n",
            "Loss: 0.5461297035217285\n",
            "Loss: 0.5418996810913086\n",
            "Loss: 0.5376697182655334\n",
            "Loss: 0.5334396362304688\n",
            "Loss: 0.5292096734046936\n",
            "Loss: 0.5249797105789185\n",
            "Loss: 0.5207496881484985\n",
            "Loss: 0.5165196657180786\n",
            "Loss: 0.5122897028923035\n",
            "Loss: 0.5080596804618835\n",
            "Loss: 0.5038296580314636\n",
            "Loss: 0.4995996952056885\n",
            "Loss: 0.4953696131706238\n",
            "Loss: 0.4911397099494934\n",
            "Loss: 0.4869096875190735\n",
            "Loss: 0.48267966508865356\n",
            "Loss: 0.47844967246055603\n",
            "Loss: 0.4742196500301361\n",
            "Loss: 0.46998968720436096\n",
            "Loss: 0.46575966477394104\n",
            "Loss: 0.4615297317504883\n",
            "Loss: 0.4572996497154236\n",
            "Loss: 0.45306968688964844\n",
            "Loss: 0.4488397240638733\n",
            "Loss: 0.44460970163345337\n",
            "Loss: 0.4403797686100006\n",
            "Loss: 0.4361497461795807\n",
            "Loss: 0.43191972374916077\n",
            "Loss: 0.42768973112106323\n",
            "Loss: 0.4234597086906433\n",
            "Loss: 0.4192296862602234\n",
            "Loss: 0.414999783039093\n",
            "Loss: 0.4107697606086731\n",
            "Loss: 0.4065397381782532\n",
            "Loss: 0.4023098051548004\n",
            "Loss: 0.3980797529220581\n",
            "Loss: 0.3938497006893158\n",
            "Loss: 0.38961976766586304\n",
            "Loss: 0.3853897452354431\n",
            "Loss: 0.3811597526073456\n",
            "Loss: 0.37692975997924805\n",
            "Loss: 0.3726998269557953\n",
            "Loss: 0.368469774723053\n",
            "Loss: 0.3642394244670868\n",
            "Loss: 0.36000820994377136\n",
            "Loss: 0.35577717423439026\n",
            "Loss: 0.351546049118042\n",
            "Loss: 0.34731489419937134\n",
            "Loss: 0.34308376908302307\n",
            "Loss: 0.3388526737689972\n",
            "Loss: 0.3346215486526489\n",
            "Loss: 0.3303903639316559\n",
            "Loss: 0.3261592388153076\n",
            "Loss: 0.32192811369895935\n",
            "Loss: 0.3176969885826111\n",
            "Loss: 0.3134658932685852\n",
            "Loss: 0.30923470854759216\n",
            "Loss: 0.3050035834312439\n",
            "Loss: 0.300772488117218\n",
            "Loss: 0.29654133319854736\n",
            "Loss: 0.2923101484775543\n",
            "Loss: 0.28807973861694336\n",
            "Loss: 0.2838497757911682\n",
            "Loss: 0.2796197831630707\n",
            "Loss: 0.27538976073265076\n",
            "Loss: 0.27115973830223083\n",
            "Loss: 0.2669297754764557\n",
            "Loss: 0.26269975304603577\n",
            "Loss: 0.25846973061561584\n",
            "Loss: 0.2542397677898407\n",
            "Loss: 0.25000977516174316\n",
            "Loss: 0.24577975273132324\n",
            "Loss: 0.2415497601032257\n",
            "Loss: 0.23731975257396698\n",
            "Loss: 0.23308977484703064\n",
            "Loss: 0.22885975241661072\n",
            "Loss: 0.2246297150850296\n",
            "Loss: 0.22039970755577087\n",
            "Loss: 0.21616974472999573\n",
            "Loss: 0.2119397670030594\n",
            "Loss: 0.20770975947380066\n",
            "Loss: 0.2034797966480255\n",
            "Loss: 0.19924983382225037\n",
            "Loss: 0.19501985609531403\n",
            "Loss: 0.19078987836837769\n",
            "Loss: 0.18655991554260254\n",
            "Loss: 0.1823299527168274\n",
            "Loss: 0.17809997498989105\n",
            "Loss: 0.1738700121641159\n",
            "Loss: 0.16964007914066315\n",
            "Loss: 0.1654100865125656\n",
            "Loss: 0.16118013858795166\n",
            "Loss: 0.15695014595985413\n",
            "Loss: 0.15272021293640137\n",
            "Loss: 0.14849022030830383\n",
            "Loss: 0.1442602574825287\n",
            "Loss: 0.14003030955791473\n",
            "Loss: 0.1358003318309784\n",
            "Loss: 0.13157036900520325\n",
            "Loss: 0.1273403912782669\n",
            "Loss: 0.12311042845249176\n",
            "Loss: 0.11888046562671661\n",
            "Loss: 0.11465050280094147\n",
            "Loss: 0.11042052507400513\n",
            "Loss: 0.10619057714939117\n",
            "Loss: 0.10196061432361603\n",
            "Loss: 0.09773065149784088\n",
            "Loss: 0.09350067377090454\n",
            "Loss: 0.0892707109451294\n",
            "Loss: 0.08504073321819305\n",
            "Loss: 0.0808107852935791\n",
            "Loss: 0.07658080756664276\n",
            "Loss: 0.07235084474086761\n",
            "Loss: 0.06814216077327728\n",
            "Loss: 0.06389214098453522\n",
            "Loss: 0.05966217443346977\n",
            "Loss: 0.05543636158108711\n",
            "Loss: 0.05121498182415962\n",
            "Loss: 0.04699357599020004\n",
            "Loss: 0.04293038696050644\n",
            "Loss: 0.04074939340353012\n",
            "Loss: 0.03716535121202469\n",
            "Loss: 0.037834763526916504\n",
            "Loss: 0.028457676991820335\n",
            "Loss: 0.02686947025358677\n",
            "Loss: 0.041620198637247086\n",
            "Loss: 0.024718865752220154\n",
            "Loss: 0.02115078642964363\n",
            "Loss: 0.04501085728406906\n",
            "Loss: 0.021496567875146866\n",
            "Loss: 0.047693219035863876\n",
            "Loss: 0.02388094738125801\n",
            "Loss: 0.06738494336605072\n",
            "Loss: 0.010309765115380287\n",
            "Loss: 0.05861065536737442\n",
            "Loss: 0.01986480876803398\n",
            "Loss: 0.06634052842855453\n",
            "Loss: 0.014221561141312122\n",
            "Loss: 0.07066454738378525\n",
            "Loss: 0.011059649288654327\n",
            "Loss: 0.07314039766788483\n",
            "Loss: 0.009115303866565228\n",
            "Loss: 0.07457456737756729\n",
            "Loss: 0.007618491537868977\n",
            "Loss: 0.07568269968032837\n",
            "Loss: 0.006993512157350779\n",
            "Loss: 0.07629203796386719\n",
            "Loss: 0.006368571426719427\n",
            "Loss: 0.076901376247406\n",
            "Loss: 0.00574362650513649\n",
            "Loss: 0.07726892083883286\n",
            "Loss: 0.005743567831814289\n",
            "Loss: 0.07726892083883286\n",
            "Loss: 0.005743567831814289\n",
            "Loss: 0.07726892083883286\n",
            "Loss: 0.005743567831814289\n",
            "Loss: 0.07726892083883286\n",
            "Loss: 0.005743567831814289\n",
            "Loss: 0.07726892083883286\n",
            "Loss: 0.005743567831814289\n",
            "Loss: 0.07726892083883286\n",
            "Loss: 0.005743567831814289\n",
            "Loss: 0.07726892083883286\n",
            "Loss: 0.005743567831814289\n",
            "Loss: 0.07726892083883286\n",
            "Loss: 0.005743567831814289\n",
            "Loss: 0.07726892083883286\n",
            "Loss: 0.005743567831814289\n",
            "Loss: 0.07726892083883286\n",
            "Loss: 0.005743567831814289\n",
            "Loss: 0.07726892083883286\n",
            "Loss: 0.005743567831814289\n",
            "Loss: 0.07726892083883286\n",
            "Loss: 0.005743567831814289\n",
            "Loss: 0.07726892083883286\n",
            "Loss: 0.005743567831814289\n",
            "Loss: 0.07726892083883286\n",
            "Loss: 0.005743567831814289\n",
            "Loss: 0.07726892083883286\n",
            "Loss: 0.005743567831814289\n",
            "Loss: 0.07726892083883286\n",
            "Loss: 0.005743567831814289\n",
            "Loss: 0.07726892083883286\n",
            "Loss: 0.005743567831814289\n",
            "Loss: 0.07726892083883286\n"
          ]
        }
      ]
    },
    {
      "cell_type": "code",
      "source": [
        "# The updated parameters\n",
        "for x in model.named_parameters():\n",
        "  print(x)"
      ],
      "metadata": {
        "colab": {
          "base_uri": "https://localhost:8080/"
        },
        "id": "VgLwCSCGfiAj",
        "outputId": "4388a0ec-d0d5-4706-871b-49ef6605f8af"
      },
      "execution_count": null,
      "outputs": [
        {
          "output_type": "stream",
          "name": "stdout",
          "text": [
            "('weights', Parameter containing:\n",
            "tensor([0.1998], requires_grad=True))\n",
            "('bias', Parameter containing:\n",
            "tensor([0.9951], requires_grad=True))\n"
          ]
        }
      ]
    },
    {
      "cell_type": "code",
      "source": [
        "# Put the model into testing mode\n",
        "model.eval()\n",
        "\n",
        "with torch.no_grad():\n",
        "  y_pred = model.forward(X_test)\n"
      ],
      "metadata": {
        "id": "VAW94M5Yh2zm"
      },
      "execution_count": null,
      "outputs": []
    },
    {
      "cell_type": "code",
      "source": [
        "plot_predictions(predictions=y_pred)"
      ],
      "metadata": {
        "colab": {
          "base_uri": "https://localhost:8080/",
          "height": 676
        },
        "id": "m-n3RW2ciFpn",
        "outputId": "8a5d323a-dbf5-4e18-d9d9-2f3afbddbe76"
      },
      "execution_count": null,
      "outputs": [
        {
          "output_type": "display_data",
          "data": {
            "text/plain": [
              "<Figure size 1000x800 with 1 Axes>"
            ],
            "image/png": "[encoded data removed]"
          },
          "metadata": {}
        }
      ]
    },
    {
      "cell_type": "code",
      "source": [
        "# Plot the loss curves\n",
        "plt.plot(training_loss.keys(), training_loss.values(), label=\"Train loss\")\n",
        "plt.title(\"Training loss curve\")\n",
        "plt.ylabel(\"Loss\")\n",
        "plt.xlabel(\"Epochs\")\n",
        "plt.legend()"
      ],
      "metadata": {
        "colab": {
          "base_uri": "https://localhost:8080/",
          "height": 489
        },
        "id": "7vhZ-tmiiGkq",
        "outputId": "1c83b8a7-8fbf-41ec-a032-d9d96be09e61"
      },
      "execution_count": null,
      "outputs": [
        {
          "output_type": "execute_result",
          "data": {
            "text/plain": [
              "<matplotlib.legend.Legend at 0x7b58f392fdd0>"
            ]
          },
          "metadata": {},
          "execution_count": 245
        },
        {
          "output_type": "display_data",
          "data": {
            "text/plain": [
              "<Figure size 640x480 with 1 Axes>"
            ],
            "image/png": "[encoded data removed]"
          },
          "metadata": {}
        }
      ]
    },
    {
      "cell_type": "markdown",
      "source": [
        "Looking at the graph above, we will probably be good with just around 700 epochs."
      ],
      "metadata": {
        "id": "UzhDJvQLj1vs"
      }
    },
    {
      "cell_type": "markdown",
      "source": [
        "## Saving a Model\n",
        "1. You could serialize your Model's class and save the entire class object using `torch.save()`\n",
        "2. Models saved using such technique can be loaded back using the `torch.load()` function.\n",
        "\n",
        "In python, serializing and deserializing a class is handled by the built in `pickle` module.\n",
        "\n",
        "3. Or, you could save the state dictonary of your Model which contains all the information regarding your model's parameters. This is the officially recommended way of saving and reloading a model in PyTorch.\n",
        "\n",
        " `model.state_dict()` simply returns a Python dictionary object that maps each layer to its parameter tensor.\n"
      ],
      "metadata": {
        "id": "TcpijGn3LJoA"
      }
    },
    {
      "cell_type": "code",
      "source": [
        "# Saving models\n",
        "from pathlib import Path\n",
        "\n",
        "# Create the models directory\n",
        "MODEL_PATH = Path(\"models\")\n",
        "MODEL_PATH.mkdir(parents=True, exist_ok=True) # Create the models directory\n",
        "\n",
        "# Create model save path\n",
        "MODEL_NAME = \"02_PyTorch_Workflow_LR_Model.pth\"\n",
        "MODEL_SAVE_PATH = MODEL_PATH / MODEL_NAME\n",
        "\n",
        "# Save the model state dict\n",
        "print(f\"Saving model to: {MODEL_SAVE_PATH}\")\n",
        "torch.save(obj=model.state_dict(), f=MODEL_SAVE_PATH)"
      ],
      "metadata": {
        "id": "1SdfqEPDNiIC",
        "colab": {
          "base_uri": "https://localhost:8080/"
        },
        "outputId": "7ebcfbbd-47ba-42d1-f8aa-68fde637b5f9"
      },
      "execution_count": null,
      "outputs": [
        {
          "output_type": "stream",
          "name": "stdout",
          "text": [
            "Saving model to: models/02_PyTorch_Workflow_LR_Model.pth\n"
          ]
        }
      ]
    },
    {
      "cell_type": "code",
      "source": [
        "# Loading models\n",
        "loaded_model = LinearRegressionModel()\n",
        "loaded_model.load_state_dict(torch.load(MODEL_SAVE_PATH, weights_only=True))\n",
        "model.eval() # Put the model into evaluation mode\n",
        "\n",
        "model.state_dict()"
      ],
      "metadata": {
        "colab": {
          "base_uri": "https://localhost:8080/"
        },
        "id": "_dP9Z1i-Qkdw",
        "outputId": "c21f5e8a-f6df-43f5-d5e7-ecb3b281a2a8"
      },
      "execution_count": null,
      "outputs": [
        {
          "output_type": "execute_result",
          "data": {
            "text/plain": [
              "OrderedDict([('weights', tensor([0.1998])), ('bias', tensor([0.9951]))])"
            ]
          },
          "metadata": {},
          "execution_count": 247
        }
      ]
    },
    {
      "cell_type": "code",
      "source": [
        "torch.cuda.is_available()"
      ],
      "metadata": {
        "colab": {
          "base_uri": "https://localhost:8080/"
        },
        "id": "BWR98ivLbCCo",
        "outputId": "b6e97806-692c-4b40-ccbe-407e51a580a4"
      },
      "execution_count": null,
      "outputs": [
        {
          "output_type": "execute_result",
          "data": {
            "text/plain": [
              "True"
            ]
          },
          "metadata": {},
          "execution_count": 248
        }
      ]
    },
    {
      "cell_type": "markdown",
      "source": [
        "### Using the GPU"
      ],
      "metadata": {
        "id": "M1sK-q7nbOm4"
      }
    },
    {
      "cell_type": "code",
      "source": [
        "device = \"cuda\" if torch.cuda.is_available() else \"cpu\"\n",
        "print(f\"Using device: {device}\")"
      ],
      "metadata": {
        "colab": {
          "base_uri": "https://localhost:8080/"
        },
        "id": "wVDffVXjbGmf",
        "outputId": "e1313db7-a5e4-42b4-eef9-d0989e858710"
      },
      "execution_count": null,
      "outputs": [
        {
          "output_type": "stream",
          "name": "stdout",
          "text": [
            "Using device: cuda\n"
          ]
        }
      ]
    },
    {
      "cell_type": "code",
      "source": [
        "# Creating a linear regression model with nn.Linear\n",
        "class LinearRegressionModel2(nn.Module):\n",
        "  def __init__(self):\n",
        "    super().__init__()\n",
        "    self.linear_layer = nn.Linear(in_features=1, out_features=1)\n",
        "\n",
        "  def forward(self, training_x):\n",
        "    predicted_value = self.linear_layer(training_x)\n",
        "    return predicted_value"
      ],
      "metadata": {
        "id": "fcOyURqkbaiP"
      },
      "execution_count": null,
      "outputs": []
    },
    {
      "cell_type": "markdown",
      "source": [
        "`nn.Linear(in_features, out_features)` applies a linear transformation on the vector of dimension `in_features` and outputs another vector of dimension `out_features`.\n",
        "\n",
        "`y = x*(Weights)^T + bias`\n",
        "\n",
        "nn.Linear can be thought of as a single layer of a neural network, where each neurons have their own **weight vector** and a **bias value**. A single input vector **x** is then sent to each of the neurons in the layer which then performs a dot product of the input vector and the neuron's weights and adds a bias value to output a single scalar. The outputs of all the neurons of the layer is appened to form a vector which is the output vector of that layer.\n",
        "\n",
        "Hence, in this light, **out_features** is the number of neurons of the layer that each output a scalar based on their own values of weight vector and bias value. Since, the weight vector is multipled by the input features(with a dimension of in_features) in each of the neurons(which there are out_features of), the dimension of the weight matrix is **out_features * in_features** and the dimension of the bias vector is **out_features***.\n",
        "\n",
        "To represent all this in a single equation, the weights of all the neurons can be stacked to create a **weight matrix**, and the biases of each of the neurons can be appeneded to form a **bias vector**. Now, a single layer's computation can be explained by the above written equation.\n",
        "\n",
        "I have drawn a comprehensive diagram and a mathematical rundown of how this works in complete detail in my handwritten notes."
      ],
      "metadata": {
        "id": "awnF0LEjDZm_"
      }
    },
    {
      "cell_type": "markdown",
      "source": [
        "With this knowledge of how nn.Linear works, we can simulate a Linear Regression Model with a nn.Linear layer that takes a single value as input and outputs a single value."
      ],
      "metadata": {
        "id": "9jWfAZIBHTQS"
      }
    },
    {
      "cell_type": "code",
      "source": [
        "# Create the model\n",
        "model_2 = LinearRegressionModel2()\n",
        "\n",
        "model_2.train() # Put the model in training mode(default)\n",
        "\n",
        "next(model_2.parameters()).device # Check model's parameters residence device"
      ],
      "metadata": {
        "id": "6HjqKOQ4CV19",
        "colab": {
          "base_uri": "https://localhost:8080/"
        },
        "outputId": "f8ba50d3-c5a6-4e2e-f429-3f280177aa19"
      },
      "execution_count": null,
      "outputs": [
        {
          "output_type": "execute_result",
          "data": {
            "text/plain": [
              "device(type='cpu')"
            ]
          },
          "metadata": {},
          "execution_count": 251
        }
      ]
    },
    {
      "cell_type": "code",
      "source": [
        "# Send the model's parameters to the GPU\n",
        "model_2.to(device)\n",
        "\n",
        "# Create the loss function\n",
        "loss_function = nn.L1Loss()\n",
        "\n",
        "next(model_2.parameters()).device # Recheck"
      ],
      "metadata": {
        "colab": {
          "base_uri": "https://localhost:8080/"
        },
        "id": "tnXtco50ImaJ",
        "outputId": "7b8d821f-9f09-483d-9398-d7ce282d5a15"
      },
      "execution_count": null,
      "outputs": [
        {
          "output_type": "execute_result",
          "data": {
            "text/plain": [
              "device(type='cuda', index=0)"
            ]
          },
          "metadata": {},
          "execution_count": 252
        }
      ]
    },
    {
      "cell_type": "code",
      "source": [
        "# Create the optimizer\n",
        "optimizer = torch.optim.SGD(model_2.parameters(), lr=0.01)"
      ],
      "metadata": {
        "id": "H3DPJ4kTIFis"
      },
      "execution_count": null,
      "outputs": []
    },
    {
      "cell_type": "code",
      "source": [
        "epochs = 500\n",
        "\n",
        "# Send all the training data to the GPU as well\n",
        "X_train = X_train.to(device)\n",
        "X_test = X_test.to(device)\n",
        "y_train = y_train.to(device)\n",
        "y_test = y_test.to(device)\n",
        "\n",
        "for i in range(0, epochs):\n",
        "  # Get the model's predictions\n",
        "  y_pred = model_2.forward(X_train)\n",
        "\n",
        "  # Get the loss value\n",
        "  loss = loss_function(y_pred, y_train)\n",
        "\n",
        "  # Clear the gradients computed from the previous step\n",
        "  optimizer.zero_grad()\n",
        "\n",
        "  # Do backpropagation (calculate gradients)\n",
        "  loss.backward()\n",
        "\n",
        "  # Optimize the parameters with the help of their gradients (Perform gradient descent)\n",
        "  optimizer.step()\n",
        "\n",
        "  if i%10 == 0:\n",
        "    print(f\"R: {i}. Loss: {loss.item()}\")"
      ],
      "metadata": {
        "colab": {
          "base_uri": "https://localhost:8080/"
        },
        "id": "OosGifEUIL4G",
        "outputId": "0b305a43-81fd-4b69-8d5c-b6525fc01cc9"
      },
      "execution_count": null,
      "outputs": [
        {
          "output_type": "stream",
          "name": "stdout",
          "text": [
            "R: 0. Loss: 4.309640407562256\n",
            "R: 10. Loss: 2.649390935897827\n",
            "R: 20. Loss: 0.9891409873962402\n",
            "R: 30. Loss: 0.668281078338623\n",
            "R: 40. Loss: 0.6511959433555603\n",
            "R: 50. Loss: 0.6342759132385254\n",
            "R: 60. Loss: 0.6173559427261353\n",
            "R: 70. Loss: 0.6004359126091003\n",
            "R: 80. Loss: 0.5835158824920654\n",
            "R: 90. Loss: 0.5665959119796753\n",
            "R: 100. Loss: 0.5496758818626404\n",
            "R: 110. Loss: 0.5327558517456055\n",
            "R: 120. Loss: 0.5158359408378601\n",
            "R: 130. Loss: 0.4989158809185028\n",
            "R: 140. Loss: 0.48199597001075745\n",
            "R: 150. Loss: 0.4650759696960449\n",
            "R: 160. Loss: 0.4481559693813324\n",
            "R: 170. Loss: 0.43123599886894226\n",
            "R: 180. Loss: 0.41431599855422974\n",
            "R: 190. Loss: 0.3973960280418396\n",
            "R: 200. Loss: 0.3804759979248047\n",
            "R: 210. Loss: 0.36355602741241455\n",
            "R: 220. Loss: 0.3466360867023468\n",
            "R: 230. Loss: 0.32971611618995667\n",
            "R: 240. Loss: 0.31279611587524414\n",
            "R: 250. Loss: 0.2958761155605316\n",
            "R: 260. Loss: 0.2789561450481415\n",
            "R: 270. Loss: 0.2620360851287842\n",
            "R: 280. Loss: 0.24511606991291046\n",
            "R: 290. Loss: 0.22819609940052032\n",
            "R: 300. Loss: 0.2112760841846466\n",
            "R: 310. Loss: 0.19435608386993408\n",
            "R: 320. Loss: 0.17743609845638275\n",
            "R: 330. Loss: 0.16051606833934784\n",
            "R: 340. Loss: 0.14359606802463531\n",
            "R: 350. Loss: 0.1266799420118332\n",
            "R: 360. Loss: 0.10979431122541428\n",
            "R: 370. Loss: 0.09284364432096481\n",
            "R: 380. Loss: 0.08322396129369736\n",
            "R: 390. Loss: 0.06297354400157928\n",
            "R: 400. Loss: 0.1258080154657364\n",
            "R: 410. Loss: 0.11512789875268936\n",
            "R: 420. Loss: 0.1269785314798355\n",
            "R: 430. Loss: 0.11278190463781357\n",
            "R: 440. Loss: 0.1442202627658844\n",
            "R: 450. Loss: 0.09933724999427795\n",
            "R: 460. Loss: 0.11550748348236084\n",
            "R: 470. Loss: 0.12416765838861465\n",
            "R: 480. Loss: 0.12870866060256958\n",
            "R: 490. Loss: 0.13157673180103302\n"
          ]
        }
      ]
    },
    {
      "cell_type": "code",
      "source": [
        "model_2.state_dict()"
      ],
      "metadata": {
        "colab": {
          "base_uri": "https://localhost:8080/"
        },
        "id": "9mEZUX_qLgny",
        "outputId": "d9ce0213-4b2e-4890-fa06-13b7c535d44c"
      },
      "execution_count": null,
      "outputs": [
        {
          "output_type": "execute_result",
          "data": {
            "text/plain": [
              "OrderedDict([('linear_layer.weight', tensor([[0.2342]], device='cuda:0')),\n",
              "             ('linear_layer.bias', tensor([0.9978], device='cuda:0'))])"
            ]
          },
          "metadata": {},
          "execution_count": 255
        }
      ]
    }
  ]
}