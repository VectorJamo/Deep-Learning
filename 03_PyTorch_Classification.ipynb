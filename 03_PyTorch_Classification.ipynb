{
  "nbformat": 4,
  "nbformat_minor": 0,
  "metadata": {
    "colab": {
      "provenance": [],
      "gpuType": "T4",
      "authorship_tag": "ABX9TyORrnTiPmruu1kpWmKFls59",
      "include_colab_link": true
    },
    "kernelspec": {
      "name": "python3",
      "display_name": "Python 3"
    },
    "language_info": {
      "name": "python"
    },
    "accelerator": "GPU"
  },
  "cells": [
    {
      "cell_type": "markdown",
      "metadata": {
        "id": "view-in-github",
        "colab_type": "text"
      },
      "source": [
        "<a href=\"https://colab.research.google.com/github/VectorJamo/Deep-Learning/blob/main/03_PyTorch_Classification.ipynb\" target=\"_parent\"><img src=\"https://colab.research.google.com/assets/colab-badge.svg\" alt=\"Open In Colab\"/></a>"
      ]
    },
    {
      "cell_type": "markdown",
      "source": [
        "## Neural Network Classification with PyTorch"
      ],
      "metadata": {
        "id": "cal0U-rR__A_"
      }
    },
    {
      "cell_type": "markdown",
      "source": [
        "1. Classification dataset"
      ],
      "metadata": {
        "id": "Y3Eyt1WqGTu5"
      }
    },
    {
      "cell_type": "code",
      "source": [
        "import sklearn\n",
        "from sklearn.datasets import make_circles"
      ],
      "metadata": {
        "id": "c_Jb44jlGadB"
      },
      "execution_count": null,
      "outputs": []
    },
    {
      "cell_type": "code",
      "source": [
        "# Make 1000 samples\n",
        "sample_size = 1000\n",
        "\n",
        "# Create circles\n",
        "X, y = make_circles(sample_size, noise=0.03, random_state=42)\n",
        "X"
      ],
      "metadata": {
        "id": "oKpGcot2Gwbo",
        "colab": {
          "base_uri": "https://localhost:8080/"
        },
        "outputId": "48e5bbab-4a66-4e4d-e920-b4b21e055fbc"
      },
      "execution_count": null,
      "outputs": [
        {
          "output_type": "execute_result",
          "data": {
            "text/plain": [
              "array([[ 0.75424625,  0.23148074],\n",
              "       [-0.75615888,  0.15325888],\n",
              "       [-0.81539193,  0.17328203],\n",
              "       ...,\n",
              "       [-0.13690036, -0.81001183],\n",
              "       [ 0.67036156, -0.76750154],\n",
              "       [ 0.28105665,  0.96382443]])"
            ]
          },
          "metadata": {},
          "execution_count": 336
        }
      ]
    },
    {
      "cell_type": "code",
      "source": [
        "len(X), len(y)"
      ],
      "metadata": {
        "colab": {
          "base_uri": "https://localhost:8080/"
        },
        "id": "505NwZrj_2_g",
        "outputId": "4997ba84-c83f-4627-f9ec-f353aa93c6dc"
      },
      "execution_count": null,
      "outputs": [
        {
          "output_type": "execute_result",
          "data": {
            "text/plain": [
              "(1000, 1000)"
            ]
          },
          "metadata": {},
          "execution_count": 337
        }
      ]
    },
    {
      "cell_type": "code",
      "source": [
        "print(f'First 5 samples of X: {X[:5]}')\n",
        "print(f'First 5 samples of y: {y[:5]}')"
      ],
      "metadata": {
        "colab": {
          "base_uri": "https://localhost:8080/"
        },
        "id": "zcNM916dCcvu",
        "outputId": "1e310b79-c66d-4936-8a81-35a4517da6fe"
      },
      "execution_count": null,
      "outputs": [
        {
          "output_type": "stream",
          "name": "stdout",
          "text": [
            "First 5 samples of X: [[ 0.75424625  0.23148074]\n",
            " [-0.75615888  0.15325888]\n",
            " [-0.81539193  0.17328203]\n",
            " [-0.39373073  0.69288277]\n",
            " [ 0.44220765 -0.89672343]]\n",
            "First 5 samples of y: [1 1 1 1 0]\n"
          ]
        }
      ]
    },
    {
      "cell_type": "code",
      "source": [
        "import matplotlib.pyplot as plt\n",
        "%matplotlib inline"
      ],
      "metadata": {
        "id": "2dFPM18NC1xf"
      },
      "execution_count": null,
      "outputs": []
    },
    {
      "cell_type": "code",
      "source": [
        "plt.scatter(x=X[:, 0], y=X[:, 1], c=y, cmap=plt.cm.RdYlBu)"
      ],
      "metadata": {
        "colab": {
          "base_uri": "https://localhost:8080/",
          "height": 448
        },
        "id": "BBN0Lg8FD4_5",
        "outputId": "5d216be0-eef2-4422-f4c1-4f6bf8427cb6"
      },
      "execution_count": null,
      "outputs": [
        {
          "output_type": "execute_result",
          "data": {
            "text/plain": [
              "<matplotlib.collections.PathCollection at 0x7ab510e9a910>"
            ]
          },
          "metadata": {},
          "execution_count": 340
        },
        {
          "output_type": "display_data",
          "data": {
            "text/plain": [
              "<Figure size 640x480 with 1 Axes>"
            ],
            "image/png": "[encoded data removed]"
          },
          "metadata": {}
        }
      ]
    },
    {
      "cell_type": "markdown",
      "source": [
        "### Turn Data Into Tensors and Create Train and Test Splits"
      ],
      "metadata": {
        "id": "inIGhyL_ESUB"
      }
    },
    {
      "cell_type": "code",
      "source": [
        "X.shape, y.shape"
      ],
      "metadata": {
        "colab": {
          "base_uri": "https://localhost:8080/"
        },
        "id": "8EXcn375o8K3",
        "outputId": "808bb957-a3fe-4a93-dca7-b996c23819ca"
      },
      "execution_count": null,
      "outputs": [
        {
          "output_type": "execute_result",
          "data": {
            "text/plain": [
              "((1000, 2), (1000,))"
            ]
          },
          "metadata": {},
          "execution_count": 341
        }
      ]
    },
    {
      "cell_type": "code",
      "source": [
        "import torch\n",
        "from torch import nn\n",
        "torch.__version__"
      ],
      "metadata": {
        "colab": {
          "base_uri": "https://localhost:8080/",
          "height": 35
        },
        "id": "lx9GgZZXpIoc",
        "outputId": "b733c94e-d282-45db-eb15-6d0727acf35c"
      },
      "execution_count": null,
      "outputs": [
        {
          "output_type": "execute_result",
          "data": {
            "text/plain": [
              "'2.5.1+cu124'"
            ],
            "application/vnd.google.colaboratory.intrinsic+json": {
              "type": "string"
            }
          },
          "metadata": {},
          "execution_count": 342
        }
      ]
    },
    {
      "cell_type": "code",
      "source": [
        "type(X), X.dtype"
      ],
      "metadata": {
        "colab": {
          "base_uri": "https://localhost:8080/"
        },
        "id": "TqJhI-uDpLty",
        "outputId": "8bb58041-b0d5-41a4-888c-e2975bd429d1"
      },
      "execution_count": null,
      "outputs": [
        {
          "output_type": "execute_result",
          "data": {
            "text/plain": [
              "(numpy.ndarray, dtype('float64'))"
            ]
          },
          "metadata": {},
          "execution_count": 343
        }
      ]
    },
    {
      "cell_type": "code",
      "source": [
        "# Convert numpy arrays into tensors\n",
        "X = torch.from_numpy(X).type(torch.float)\n",
        "y = torch.from_numpy(y).type(torch.float)"
      ],
      "metadata": {
        "id": "hflwt550pWky"
      },
      "execution_count": null,
      "outputs": []
    },
    {
      "cell_type": "code",
      "source": [
        "type(X), X.dtype, y.dtype"
      ],
      "metadata": {
        "colab": {
          "base_uri": "https://localhost:8080/"
        },
        "id": "Q9hc8KS9pff0",
        "outputId": "8e2fe9b3-4f17-4074-cbaa-bc92a8de389c"
      },
      "execution_count": null,
      "outputs": [
        {
          "output_type": "execute_result",
          "data": {
            "text/plain": [
              "(torch.Tensor, torch.float32, torch.float32)"
            ]
          },
          "metadata": {},
          "execution_count": 345
        }
      ]
    },
    {
      "cell_type": "code",
      "source": [
        "# Split data into training and test splits\n",
        "from sklearn.model_selection import train_test_split\n",
        "X_train, X_test, y_train, y_test = train_test_split(X, y, test_size=0.2, random_state=42)\n",
        "X_test.shape, y_test.shape"
      ],
      "metadata": {
        "colab": {
          "base_uri": "https://localhost:8080/"
        },
        "id": "n0of67zYpkbA",
        "outputId": "81a195f6-e1e5-4218-9117-cd73321b80c9"
      },
      "execution_count": null,
      "outputs": [
        {
          "output_type": "execute_result",
          "data": {
            "text/plain": [
              "(torch.Size([200, 2]), torch.Size([200]))"
            ]
          },
          "metadata": {},
          "execution_count": 346
        }
      ]
    },
    {
      "cell_type": "markdown",
      "source": [
        "**Building a Model**"
      ],
      "metadata": {
        "id": "snms32wppwUO"
      }
    },
    {
      "cell_type": "code",
      "source": [
        "# Pick a device\n",
        "device = \"cuda\" if torch.cuda.is_available() else \"cpu\"\n",
        "device"
      ],
      "metadata": {
        "colab": {
          "base_uri": "https://localhost:8080/",
          "height": 35
        },
        "id": "VNdggasnqTao",
        "outputId": "6e8e9fe0-84ee-48d4-9ef8-309c6ea21a10"
      },
      "execution_count": null,
      "outputs": [
        {
          "output_type": "execute_result",
          "data": {
            "text/plain": [
              "'cuda'"
            ],
            "application/vnd.google.colaboratory.intrinsic+json": {
              "type": "string"
            }
          },
          "metadata": {},
          "execution_count": 347
        }
      ]
    },
    {
      "cell_type": "code",
      "source": [
        "class CircleModel(nn.Module):\n",
        "  def __init__(self):\n",
        "    super().__init__()\n",
        "    # Create a NN with 2 layers\n",
        "    self.layer_1 = nn.Linear(in_features=2, out_features=6) # Takes in 2 features and outputs 6 features\n",
        "    self.layer_2 = nn.Linear(in_features=6, out_features=7) # Takes in 6 features and outputs 7 features\n",
        "    self.layer_3 = nn.Linear(in_features=7, out_features=1) # Takes in 7 features from the previous layer and outputs 1 feature\n",
        "\n",
        "  # Define the forward computation steps in our Model\n",
        "  def forward(self, x):\n",
        "    output1 = self.layer_1(x)# First, pass a training example through layer 1\n",
        "    output2 = self.layer_2(output1)\n",
        "    output = self.layer_3(output2)\n",
        "    return output\n",
        "\n",
        "model = CircleModel().to(device)\n",
        "model"
      ],
      "metadata": {
        "colab": {
          "base_uri": "https://localhost:8080/"
        },
        "id": "jDjCvkUlqqaD",
        "outputId": "8ad1e17a-ba8b-4999-b394-602ee60f4c06"
      },
      "execution_count": null,
      "outputs": [
        {
          "output_type": "execute_result",
          "data": {
            "text/plain": [
              "CircleModel(\n",
              "  (layer_1): Linear(in_features=2, out_features=6, bias=True)\n",
              "  (layer_2): Linear(in_features=6, out_features=7, bias=True)\n",
              "  (layer_3): Linear(in_features=7, out_features=1, bias=True)\n",
              ")"
            ]
          },
          "metadata": {},
          "execution_count": 348
        }
      ]
    },
    {
      "cell_type": "code",
      "source": [
        "# First, pass a training example through layer 1 and then the output of the layer 1 to layer 2# First, pass a training example through layer 1 and then the output of the layer 1 to layer 2# First, pass a training example through layer 1 and then the output of the layer 1 to layer 2# First, pass a training example through layer 1 and then the output of the layer 1 to layer 2# First, pass a training example through layer 1 and then the output of the layer 1 to layer 2device"
      ],
      "metadata": {
        "id": "M51Anwx6ths7"
      },
      "execution_count": null,
      "outputs": []
    },
    {
      "cell_type": "markdown",
      "source": [
        "Replicate the model above with `nn.sequential`. Since it is a sequential, any data example will go through sequentially(one by one). So, there is no need to provide a forward() method(the forward pass will go on in the order we set the layers)."
      ],
      "metadata": {
        "id": "sP4VpPsFtlJy"
      }
    },
    {
      "cell_type": "markdown",
      "source": [
        "Making some **predictions before training the model**"
      ],
      "metadata": {
        "id": "hK12eFsux4ge"
      }
    },
    {
      "cell_type": "code",
      "source": [
        "model.state_dict()"
      ],
      "metadata": {
        "colab": {
          "base_uri": "https://localhost:8080/"
        },
        "id": "msv7Y47GyjD6",
        "outputId": "1047c24b-41f5-4cd7-98ee-747991cfff3f"
      },
      "execution_count": null,
      "outputs": [
        {
          "output_type": "execute_result",
          "data": {
            "text/plain": [
              "OrderedDict([('layer_1.weight',\n",
              "              tensor([[ 0.5406,  0.5869],\n",
              "                      [-0.1657,  0.6496],\n",
              "                      [-0.1549,  0.1427],\n",
              "                      [-0.3443,  0.4153],\n",
              "                      [ 0.6233, -0.5188],\n",
              "                      [ 0.6146,  0.1323]], device='cuda:0')),\n",
              "             ('layer_1.bias',\n",
              "              tensor([ 0.5224,  0.0958,  0.3410, -0.0998,  0.5451,  0.1045], device='cuda:0')),\n",
              "             ('layer_2.weight',\n",
              "              tensor([[-0.1906,  0.1041, -0.1881, -0.0479, -0.1658,  0.2708],\n",
              "                      [-0.3223, -0.1882, -0.1153, -0.2455,  0.0385, -0.4032],\n",
              "                      [ 0.3687, -0.3468,  0.3152,  0.0679, -0.1326,  0.2523],\n",
              "                      [ 0.0636,  0.3298,  0.0446, -0.1288,  0.1097, -0.1107],\n",
              "                      [ 0.1718,  0.3645,  0.2360, -0.1785,  0.2357,  0.0730],\n",
              "                      [ 0.2073, -0.2488, -0.4041, -0.1577, -0.3131,  0.3350],\n",
              "                      [ 0.1176,  0.1691,  0.1291, -0.0071,  0.3195, -0.2901]],\n",
              "                     device='cuda:0')),\n",
              "             ('layer_2.bias',\n",
              "              tensor([ 0.0257, -0.2786,  0.1259, -0.1406,  0.1251, -0.0851,  0.3386],\n",
              "                     device='cuda:0')),\n",
              "             ('layer_3.weight',\n",
              "              tensor([[-0.2240, -0.2254, -0.2254,  0.3400,  0.1260,  0.3637, -0.3119]],\n",
              "                     device='cuda:0')),\n",
              "             ('layer_3.bias', tensor([-0.3749], device='cuda:0'))])"
            ]
          },
          "metadata": {},
          "execution_count": 350
        }
      ]
    },
    {
      "cell_type": "code",
      "source": [
        "# Send our model to the GPU\n",
        "X_train = X_train.to(device)\n",
        "X_test = X_test.to(device)\n",
        "y_train = y_train.to(device)\n",
        "y_test = y_test.to(device)"
      ],
      "metadata": {
        "id": "G9TTft3iyqy6"
      },
      "execution_count": null,
      "outputs": []
    },
    {
      "cell_type": "code",
      "source": [
        "# Making predictions before training the model\n",
        "with torch.no_grad():\n",
        "  untrained_preds = model(X_test)\n",
        "  print(f\"Length of testing data: {len(X_test)}. Shape of testing data: {X_test.shape}\")\n",
        "  print(f\"Length of predictions: {len(untrained_preds)}. Shape of predictions: {untrained_preds.shape}\")\n"
      ],
      "metadata": {
        "colab": {
          "base_uri": "https://localhost:8080/"
        },
        "id": "n3TK4HELzBfU",
        "outputId": "38b24721-3fa9-4311-8a4b-047a8d506fe4"
      },
      "execution_count": null,
      "outputs": [
        {
          "output_type": "stream",
          "name": "stdout",
          "text": [
            "Length of testing data: 200. Shape of testing data: torch.Size([200, 2])\n",
            "Length of predictions: 200. Shape of predictions: torch.Size([200, 1])\n"
          ]
        }
      ]
    },
    {
      "cell_type": "code",
      "source": [
        "X_test[:10], torch.round(untrained_preds[:10])"
      ],
      "metadata": {
        "colab": {
          "base_uri": "https://localhost:8080/"
        },
        "id": "Yprs8BX_zjHc",
        "outputId": "f3d8d5a2-7f85-44b2-d9d5-070469748755"
      },
      "execution_count": null,
      "outputs": [
        {
          "output_type": "execute_result",
          "data": {
            "text/plain": [
              "(tensor([[-0.3752,  0.6827],\n",
              "         [ 0.0154,  0.9600],\n",
              "         [-0.7028, -0.3147],\n",
              "         [-0.2853,  0.9664],\n",
              "         [ 0.4024, -0.7438],\n",
              "         [ 0.6323, -0.5711],\n",
              "         [ 0.8561,  0.5499],\n",
              "         [ 1.0034,  0.1903],\n",
              "         [-0.7489, -0.2951],\n",
              "         [ 0.0538,  0.9739]], device='cuda:0'),\n",
              " tensor([[-0.],\n",
              "         [-0.],\n",
              "         [-1.],\n",
              "         [-0.],\n",
              "         [-1.],\n",
              "         [-1.],\n",
              "         [-0.],\n",
              "         [-0.],\n",
              "         [-1.],\n",
              "         [-0.]], device='cuda:0'))"
            ]
          },
          "metadata": {},
          "execution_count": 353
        }
      ]
    },
    {
      "cell_type": "markdown",
      "source": [
        "Setting up the **loss function** and the **optimizer**"
      ],
      "metadata": {
        "id": "41HRdMOC0G3C"
      }
    },
    {
      "cell_type": "code",
      "source": [
        "# Create the loss function\n",
        "\n",
        "# For all the theory and reasons of why we are using this loss function, head over to my handwritten notes.\n",
        "# But, in short, BCEWithLogits loss sends the logits through a sigmoid function first to get the probability value between (0, 1) and then\n",
        "# computes the binary cross entropy loss which is just the negative of the log likelihood function.\n",
        "# However, for learning, we will pass the output of the forward pass(logits) through a sigmoid function ourselves so we will use just BCELoss() which\n",
        "# only computes the binary cross entropy loss.\n",
        "loss_function = nn.BCEWithLogitsLoss()\n",
        "\n",
        "# Create the optimizer\n",
        "learning_rate = 0.1\n",
        "optimizer = torch.optim.SGD(params=model.parameters(), lr=learning_rate)"
      ],
      "metadata": {
        "id": "HeaH54Nh2F6r"
      },
      "execution_count": null,
      "outputs": []
    },
    {
      "cell_type": "markdown",
      "source": [
        "Calculating model's **accuracy**"
      ],
      "metadata": {
        "id": "_yRPr5MbQn-n"
      }
    },
    {
      "cell_type": "code",
      "source": [
        "def calculate_accuracy(y_pred, y_true):\n",
        "  # torch.eq(y_pred, y_true) returns a tensor of booleans of same shape as y_pred and y_true containing True if the two values in the tensors at that location is equal and False if they are not.\n",
        "  # .sum() caluclates the sum of the values of the tensor(True = 1, False = 0).\n",
        "  # .item() returns the value as a regular python integer.\n",
        "  num_correct = torch.eq(y_pred, y_true).sum().item()\n",
        "  accuracy = float(num_correct/len(y_true))*100.0\n",
        "  return accuracy"
      ],
      "metadata": {
        "id": "Fvu6xnjaRT_s"
      },
      "execution_count": null,
      "outputs": []
    },
    {
      "cell_type": "markdown",
      "source": [
        "Converting the **Logits** to **Prediction Probabilities** and then **Prediction Labels**\n"
      ],
      "metadata": {
        "id": "_DAp07eCSr31"
      }
    },
    {
      "cell_type": "code",
      "source": [
        "# The output of the forward pass, before any activation function like sigmoid or softmax is applied is known as \"Logits\". If you need a refresher in depth about what Logits are and what these\n",
        "# activation functions do, head over to my handwritten notes.\n",
        "model.eval()\n",
        "\n",
        "with torch.no_grad():\n",
        "  y_preds = model(X_train)[:5]\n",
        "\n",
        "y_preds"
      ],
      "metadata": {
        "id": "Wdm7nOL7Tg3T",
        "colab": {
          "base_uri": "https://localhost:8080/"
        },
        "outputId": "b71f5d78-dcab-4f18-c9e6-93d76827d638"
      },
      "execution_count": null,
      "outputs": [
        {
          "output_type": "execute_result",
          "data": {
            "text/plain": [
              "tensor([[-0.5046],\n",
              "        [-0.5502],\n",
              "        [-0.6707],\n",
              "        [-0.6811],\n",
              "        [-0.4155]], device='cuda:0')"
            ]
          },
          "metadata": {},
          "execution_count": 356
        }
      ]
    },
    {
      "cell_type": "code",
      "source": [
        "y_test[:5]"
      ],
      "metadata": {
        "colab": {
          "base_uri": "https://localhost:8080/"
        },
        "id": "FrsmwtClAIKC",
        "outputId": "ab7c4738-44cd-4fcc-cb46-663ca03606f3"
      },
      "execution_count": null,
      "outputs": [
        {
          "output_type": "execute_result",
          "data": {
            "text/plain": [
              "tensor([1., 0., 1., 0., 1.], device='cuda:0')"
            ]
          },
          "metadata": {},
          "execution_count": 357
        }
      ]
    },
    {
      "cell_type": "code",
      "source": [
        "# Use the sigmoid activation function on the logits and map them to Prediction Probabilities (0, 1)\n",
        "y_pred_probs = torch.sigmoid(y_preds)\n",
        "y_pred_probs"
      ],
      "metadata": {
        "colab": {
          "base_uri": "https://localhost:8080/"
        },
        "id": "yOg8GCYOA7lI",
        "outputId": "90b63563-9bcc-4525-90a9-553c524be825"
      },
      "execution_count": null,
      "outputs": [
        {
          "output_type": "execute_result",
          "data": {
            "text/plain": [
              "tensor([[0.3764],\n",
              "        [0.3658],\n",
              "        [0.3383],\n",
              "        [0.3360],\n",
              "        [0.3976]], device='cuda:0')"
            ]
          },
          "metadata": {},
          "execution_count": 358
        }
      ]
    },
    {
      "cell_type": "code",
      "source": [
        "# Round the probability values to 0 or 1 to get the Prediction Labels\n",
        "y_pred_labels = torch.round(y_pred_probs)\n",
        "y_pred_labels"
      ],
      "metadata": {
        "colab": {
          "base_uri": "https://localhost:8080/"
        },
        "id": "tQLDeAzQBK9B",
        "outputId": "42755f6d-0fe7-47c9-e0ad-f8f3e976f3d9"
      },
      "execution_count": null,
      "outputs": [
        {
          "output_type": "execute_result",
          "data": {
            "text/plain": [
              "tensor([[0.],\n",
              "        [0.],\n",
              "        [0.],\n",
              "        [0.],\n",
              "        [0.]], device='cuda:0')"
            ]
          },
          "metadata": {},
          "execution_count": 359
        }
      ]
    },
    {
      "cell_type": "markdown",
      "source": [
        "Training the **Model**"
      ],
      "metadata": {
        "id": "J4tgOGVgBW4p"
      }
    },
    {
      "cell_type": "code",
      "source": [
        "torch.manual_seed(42)\n",
        "torch.cuda.manual_seed(42)"
      ],
      "metadata": {
        "id": "OyH8eCfSCMj6"
      },
      "execution_count": null,
      "outputs": []
    },
    {
      "cell_type": "code",
      "source": [
        "epochs = 2000\n",
        "for i in range(0, epochs):\n",
        "  model.train() # Put the model in training mode\n",
        "\n",
        "  # Forward pass\n",
        "  logits = model(X_train).squeeze()\n",
        "\n",
        "  # Pass through the sigmoid function to get the prediction probabilities\n",
        "  y_pred_probs = torch.sigmoid(logits)\n",
        "\n",
        "  # Get the loss\n",
        "  loss = loss_function(logits, y_train)\n",
        "\n",
        "  # Clear the gradients stored in the parameters(weights and biases) from previous loss.backward()\n",
        "  optimizer.zero_grad()\n",
        "\n",
        "  # Backpropagation to compute the partial derivatives of the loss function with respect to the weights and biases and store them as gradients in those parameters\n",
        "  loss.backward()\n",
        "\n",
        "  # Update the model parameters based on their gradients\n",
        "  optimizer.step()\n",
        "\n",
        "  # Test the model on training data to get the accuracy\n",
        "  with torch.no_grad():\n",
        "    model.eval() # Put the model in evaluation mode\n",
        "\n",
        "    logits = model(X_test).squeeze()\n",
        "    y_pred_probs = torch.sigmoid(logits)\n",
        "    y_label_pred = torch.round(y_pred_probs)\n",
        "\n",
        "    accuracy = calculate_accuracy(y_pred=y_label_pred, y_true=y_test)\n",
        "    if i%100 == 0:\n",
        "      print(f'R: {i + 10}. Loss: {loss.item()}. Accuracy: {accuracy}')\n"
      ],
      "metadata": {
        "colab": {
          "base_uri": "https://localhost:8080/"
        },
        "id": "wXLcIeGkE6MM",
        "outputId": "e5ae0481-aaff-4720-94d0-b7d7ee0eb008"
      },
      "execution_count": null,
      "outputs": [
        {
          "output_type": "stream",
          "name": "stdout",
          "text": [
            "R: 10. Loss: 0.7275825142860413. Accuracy: 50.0\n",
            "R: 110. Loss: 0.693871796131134. Accuracy: 46.5\n",
            "R: 210. Loss: 0.6932071447372437. Accuracy: 46.5\n",
            "R: 310. Loss: 0.6930418014526367. Accuracy: 47.0\n",
            "R: 410. Loss: 0.6929970979690552. Accuracy: 45.5\n",
            "R: 510. Loss: 0.6929845809936523. Accuracy: 46.0\n",
            "R: 610. Loss: 0.6929812431335449. Accuracy: 45.5\n",
            "R: 710. Loss: 0.692980170249939. Accuracy: 45.5\n",
            "R: 810. Loss: 0.6929798722267151. Accuracy: 45.5\n",
            "R: 910. Loss: 0.6929798722267151. Accuracy: 46.0\n",
            "R: 1010. Loss: 0.6929798722267151. Accuracy: 46.0\n",
            "R: 1110. Loss: 0.6929798722267151. Accuracy: 46.0\n",
            "R: 1210. Loss: 0.6929798722267151. Accuracy: 46.0\n",
            "R: 1310. Loss: 0.6929798722267151. Accuracy: 46.0\n",
            "R: 1410. Loss: 0.6929798722267151. Accuracy: 46.0\n",
            "R: 1510. Loss: 0.6929798722267151. Accuracy: 46.0\n",
            "R: 1610. Loss: 0.6929798722267151. Accuracy: 46.0\n",
            "R: 1710. Loss: 0.6929798722267151. Accuracy: 46.0\n",
            "R: 1810. Loss: 0.6929798722267151. Accuracy: 46.0\n",
            "R: 1910. Loss: 0.6929798722267151. Accuracy: 46.0\n"
          ]
        }
      ]
    },
    {
      "cell_type": "markdown",
      "source": [
        "### Adding non-linearity"
      ],
      "metadata": {
        "id": "neAtpH2wnNZp"
      }
    },
    {
      "cell_type": "markdown",
      "source": [
        "Raw NNs with no activation functions is just a linear transformation of the input data. **If you lay out all the equations of the neurons in a raw NN, you see that it is just an equation of a straight line. However, there may not be a straight line that perfectly divides the different classes.** Therefore, for decision boundaries that are not linear, we need to use **activation functions**. Activation functions like `relU` or `tanH` in the hidden layers can simulate any sort of a continuous function. Therefore, our decision boundary can be of any shape or form.\n",
        "\n",
        "For more explanation, head over to my handwritten notes."
      ],
      "metadata": {
        "id": "Nl70cwzVIJs9"
      }
    },
    {
      "cell_type": "code",
      "source": [
        "class CircleModelV1(nn.Module):\n",
        "  def __init__(self):\n",
        "    super().__init__()\n",
        "    # Create a NN with 2 layers\n",
        "    self.layer_1 = nn.Linear(in_features=2, out_features=6) # Takes in 2 features and outputs 6 features\n",
        "    self.layer_2 = nn.Linear(in_features=6, out_features=7) # Takes in 6 features and outputs 7 features\n",
        "    self.layer_3 = nn.Linear(in_features=7, out_features=1) # Takes in 7 features from the previous layer and outputs 1 feature\n",
        "    self.relu = nn.ReLU() # ReLU(input) = max(0, input)\n",
        "\n",
        "  # Define the forward computation steps in our Model\n",
        "  def forward(self, x):\n",
        "    output1 = self.relu(self.layer_1(x)) # First, pass a training example through layer 1 and then the outputs of that layer though the ReLU activation function\n",
        "    output2 = self.relu(self.layer_2(output1)) # Then, from layer 1 to layer 2\n",
        "    output = self.layer_3(output2) # Finally, to layer 3\n",
        "    return output\n",
        "\n",
        "model = CircleModelV1().to(device)\n",
        "model"
      ],
      "metadata": {
        "id": "7hcZlQvWm7IL",
        "colab": {
          "base_uri": "https://localhost:8080/"
        },
        "outputId": "26e18848-3b6c-4777-b872-6fb8d760a6ed"
      },
      "execution_count": null,
      "outputs": [
        {
          "output_type": "execute_result",
          "data": {
            "text/plain": [
              "CircleModelV1(\n",
              "  (layer_1): Linear(in_features=2, out_features=6, bias=True)\n",
              "  (layer_2): Linear(in_features=6, out_features=7, bias=True)\n",
              "  (layer_3): Linear(in_features=7, out_features=1, bias=True)\n",
              "  (relu): ReLU()\n",
              ")"
            ]
          },
          "metadata": {},
          "execution_count": 362
        }
      ]
    },
    {
      "cell_type": "markdown",
      "source": [
        "Train the new model with added **linearility**"
      ],
      "metadata": {
        "id": "hHtrOdyRN4oa"
      }
    },
    {
      "cell_type": "code",
      "source": [
        "# Loss function and the optimizer\n",
        "loss_function = nn.BCEWithLogitsLoss()\n",
        "\n",
        "# Create the optimizer\n",
        "learning_rate = 0.1\n",
        "optimizer = torch.optim.SGD(params=model.parameters(), lr=learning_rate)"
      ],
      "metadata": {
        "id": "8PXbCSHvOLVh"
      },
      "execution_count": null,
      "outputs": []
    },
    {
      "cell_type": "code",
      "source": [
        "epochs = 2000\n",
        "for i in range(0, epochs):\n",
        "  model.train() # Put the model in training mode\n",
        "\n",
        "  # Forward pass\n",
        "  logits = model(X_train).squeeze()\n",
        "\n",
        "  # Pass through the sigmoid function to get the prediction probabilities\n",
        "  y_pred_probs = torch.sigmoid(logits)\n",
        "\n",
        "  # Get the loss\n",
        "  loss = loss_function(logits, y_train)\n",
        "\n",
        "  # Clear the gradients stored in the parameters(weights and biases) from previous loss.backward()\n",
        "  optimizer.zero_grad()\n",
        "\n",
        "  # Backpropagation to compute the partial derivatives of the loss function with respect to the weights and biases and store them as gradients in those parameters\n",
        "  loss.backward()\n",
        "\n",
        "  # Update the model parameters based on their gradients\n",
        "  optimizer.step()\n",
        "\n",
        "  # Test the model on training data to get the accuracy\n",
        "  with torch.no_grad():\n",
        "    model.eval() # Put the model in evaluation mode\n",
        "\n",
        "    logits = model(X_test).squeeze()\n",
        "    y_pred_probs = torch.sigmoid(logits)\n",
        "    y_label_pred = torch.round(y_pred_probs)\n",
        "\n",
        "    accuracy = calculate_accuracy(y_pred=y_label_pred, y_true=y_test)\n",
        "    if i%100 == 0:\n",
        "      print(f'R: {i + 10}. Loss: {loss.item()}. Accuracy: {accuracy}')"
      ],
      "metadata": {
        "colab": {
          "base_uri": "https://localhost:8080/"
        },
        "id": "2Vzl8pPnNwop",
        "outputId": "81523243-3ae7-4fb3-8662-618d6fa935be"
      },
      "execution_count": null,
      "outputs": [
        {
          "output_type": "stream",
          "name": "stdout",
          "text": [
            "R: 10. Loss: 0.7331091165542603. Accuracy: 50.0\n",
            "R: 110. Loss: 0.6946240663528442. Accuracy: 46.5\n",
            "R: 210. Loss: 0.6936926245689392. Accuracy: 46.0\n",
            "R: 310. Loss: 0.6930021643638611. Accuracy: 56.00000000000001\n",
            "R: 410. Loss: 0.6923657059669495. Accuracy: 54.0\n",
            "R: 510. Loss: 0.6918672323226929. Accuracy: 54.0\n",
            "R: 610. Loss: 0.6913191080093384. Accuracy: 55.00000000000001\n",
            "R: 710. Loss: 0.6906661987304688. Accuracy: 55.50000000000001\n",
            "R: 810. Loss: 0.6898030042648315. Accuracy: 55.50000000000001\n",
            "R: 910. Loss: 0.6886529922485352. Accuracy: 55.50000000000001\n",
            "R: 1010. Loss: 0.6870373487472534. Accuracy: 56.99999999999999\n",
            "R: 1110. Loss: 0.6841339468955994. Accuracy: 58.5\n",
            "R: 1210. Loss: 0.6808568239212036. Accuracy: 58.5\n",
            "R: 1310. Loss: 0.6761606335639954. Accuracy: 60.5\n",
            "R: 1410. Loss: 0.6690604090690613. Accuracy: 65.0\n",
            "R: 1510. Loss: 0.6567304730415344. Accuracy: 73.0\n",
            "R: 1610. Loss: 0.6364994645118713. Accuracy: 82.0\n",
            "R: 1710. Loss: 0.602117657661438. Accuracy: 86.0\n",
            "R: 1810. Loss: 0.5458840727806091. Accuracy: 89.5\n",
            "R: 1910. Loss: 0.4622234106063843. Accuracy: 92.0\n"
          ]
        }
      ]
    },
    {
      "cell_type": "markdown",
      "source": [
        "### Putting it altogether with a **multi-class classification problem**"
      ],
      "metadata": {
        "id": "dzHoaBMXOtON"
      }
    },
    {
      "cell_type": "markdown",
      "source": [
        "First we need some multi-class data. We will be using scikitlearn's built in make_blobs() function. This will create data points of as many classes as we want by modifying the `center` argument"
      ],
      "metadata": {
        "id": "ICdgJEZqOza3"
      }
    },
    {
      "cell_type": "code",
      "source": [
        "from sklearn.datasets import make_blobs"
      ],
      "metadata": {
        "id": "tdmddxFvQ0MP"
      },
      "execution_count": null,
      "outputs": []
    },
    {
      "cell_type": "code",
      "source": [
        "num_classes = 4\n",
        "num_features = 2\n",
        "data_noise = 1.2\n",
        "random_seed = 42"
      ],
      "metadata": {
        "id": "pzoEsmm9Q4lv"
      },
      "execution_count": null,
      "outputs": []
    },
    {
      "cell_type": "code",
      "source": [
        "# Create the multi-class data\n",
        "X_blob, y_blob = make_blobs(n_samples=1000, n_features=num_features, centers=num_classes, cluster_std=data_noise, random_state=random_seed)"
      ],
      "metadata": {
        "id": "-bYIDTxeQ-H_"
      },
      "execution_count": null,
      "outputs": []
    },
    {
      "cell_type": "code",
      "source": [
        "# Turn the data into tensors\n",
        "X_blob.shape, y_blob.shape\n",
        "\n",
        "X_blob = torch.from_numpy(X_blob).type(torch.float)\n",
        "y_blob = torch.from_numpy(y_blob).type(torch.LongTensor)"
      ],
      "metadata": {
        "id": "BCUhq1FYRUCF"
      },
      "execution_count": null,
      "outputs": []
    },
    {
      "cell_type": "code",
      "source": [
        "# Split the data into train and test sets\n",
        "X_train, X_test, y_train, y_test = train_test_split(X_blob, y_blob, test_size=0.2, random_state=random_seed)\n",
        "X_train.size(), X_test.size()"
      ],
      "metadata": {
        "colab": {
          "base_uri": "https://localhost:8080/"
        },
        "id": "UiFQ6fIWRYT4",
        "outputId": "ed07421c-f5fd-40df-84cf-d79cef5f2232"
      },
      "execution_count": null,
      "outputs": [
        {
          "output_type": "execute_result",
          "data": {
            "text/plain": [
              "(torch.Size([800, 2]), torch.Size([200, 2]))"
            ]
          },
          "metadata": {},
          "execution_count": 369
        }
      ]
    },
    {
      "cell_type": "code",
      "source": [
        "# Visualize the data\n",
        "plt.scatter(x=X_train[:, 0], y=X_train[:, 1], c=y_train)"
      ],
      "metadata": {
        "colab": {
          "base_uri": "https://localhost:8080/",
          "height": 448
        },
        "id": "v5glzQJ_ST6f",
        "outputId": "666570c5-f075-4d57-c1f0-14de8b8f5b3a"
      },
      "execution_count": null,
      "outputs": [
        {
          "output_type": "execute_result",
          "data": {
            "text/plain": [
              "<matplotlib.collections.PathCollection at 0x7ab510e9c310>"
            ]
          },
          "metadata": {},
          "execution_count": 370
        },
        {
          "output_type": "display_data",
          "data": {
            "text/plain": [
              "<Figure size 640x480 with 1 Axes>"
            ],
            "image/png": "[encoded data removed]"
          },
          "metadata": {}
        }
      ]
    },
    {
      "cell_type": "code",
      "source": [
        "# Creating the model\n",
        "device = 'cuda' if torch.cuda.is_available() else 'cpu'\n",
        "device"
      ],
      "metadata": {
        "colab": {
          "base_uri": "https://localhost:8080/",
          "height": 35
        },
        "id": "_k49nelcSoX7",
        "outputId": "6487951f-8154-41a9-a40d-7ff77ed76088"
      },
      "execution_count": null,
      "outputs": [
        {
          "output_type": "execute_result",
          "data": {
            "text/plain": [
              "'cuda'"
            ],
            "application/vnd.google.colaboratory.intrinsic+json": {
              "type": "string"
            }
          },
          "metadata": {},
          "execution_count": 371
        }
      ]
    },
    {
      "cell_type": "code",
      "source": [
        "class MultiClassModel(nn.Module):\n",
        "  def __init__(self):\n",
        "    super().__init__()\n",
        "\n",
        "    self.layers = nn.Sequential(\n",
        "        nn.Linear(in_features=2, out_features=6),\n",
        "        nn.ReLU(),\n",
        "        nn.Linear(in_features=6, out_features=7),\n",
        "        nn.ReLU(),\n",
        "        nn.Linear(in_features=7, out_features=4) # Out features should be the same as the number of classes\n",
        "    )\n",
        "\n",
        "  def forward(self, x):\n",
        "    return self.layers(x)"
      ],
      "metadata": {
        "id": "dGzK04zvTH3Q"
      },
      "execution_count": null,
      "outputs": []
    },
    {
      "cell_type": "code",
      "source": [
        "model = MultiClassModel().to(device)"
      ],
      "metadata": {
        "id": "_CbhlcivUOPg"
      },
      "execution_count": null,
      "outputs": []
    },
    {
      "cell_type": "markdown",
      "source": [
        "Create the **loss function** and the **optimizer**.\n",
        "\n",
        "In multiclass classification, the final layer's activation function is the **softmax** activation function. The softmax activation function takes an input of size n (the logits), and outputs a size n array containing the probabilities of each class. The mathematics behind how it does it is actually really simple.\n",
        "\n",
        "Head over to my handwritten notes if you need a quick refresher.\n",
        "\n",
        "Also, for multiclass problem, instead of binary cross entropy, we will use **cross entropy loss**"
      ],
      "metadata": {
        "id": "T8VI1PURUd4s"
      }
    },
    {
      "cell_type": "code",
      "source": [
        "# Loss function\n",
        "loss_function = nn.CrossEntropyLoss()\n",
        "\n",
        "# Optimizer\n",
        "optimizer = torch.optim.SGD(model.parameters(), lr=0.1)"
      ],
      "metadata": {
        "id": "n5kB-f17VNoP"
      },
      "execution_count": null,
      "outputs": []
    },
    {
      "cell_type": "code",
      "source": [
        "# Sending our data to the appropriate device\n",
        "X_train = X_train.to(device)\n",
        "X_test = X_test.to(device)\n",
        "y_train = y_train.to(device)\n",
        "y_test = y_test.to(device)"
      ],
      "metadata": {
        "id": "ydWec8IfV5MW"
      },
      "execution_count": null,
      "outputs": []
    },
    {
      "cell_type": "markdown",
      "source": [
        "Let's see the softmax activation function in action"
      ],
      "metadata": {
        "id": "GvDYSNjCWZJV"
      }
    },
    {
      "cell_type": "code",
      "source": [
        "# Compute the output of the final layer (logits) for a single training example\n",
        "logits = model(X_train[0])\n",
        "logits"
      ],
      "metadata": {
        "colab": {
          "base_uri": "https://localhost:8080/"
        },
        "id": "sN5llSJ-V8w-",
        "outputId": "69723a81-85f3-4390-e190-f94d37d660e7"
      },
      "execution_count": null,
      "outputs": [
        {
          "output_type": "execute_result",
          "data": {
            "text/plain": [
              "tensor([-0.0281, -0.1495,  0.2341, -0.1957], device='cuda:0',\n",
              "       grad_fn=<ViewBackward0>)"
            ]
          },
          "metadata": {},
          "execution_count": 376
        }
      ]
    },
    {
      "cell_type": "code",
      "source": [
        "# Pass the logits through the softmax function\n",
        "y_pred_probs = torch.softmax(logits, dim=0)\n",
        "y_pred_probs"
      ],
      "metadata": {
        "colab": {
          "base_uri": "https://localhost:8080/"
        },
        "id": "5IiXDgcCWMNx",
        "outputId": "bbc7b1b1-4017-403e-b8b0-da307a0e4abc"
      },
      "execution_count": null,
      "outputs": [
        {
          "output_type": "execute_result",
          "data": {
            "text/plain": [
              "tensor([0.2481, 0.2197, 0.3224, 0.2098], device='cuda:0',\n",
              "       grad_fn=<SoftmaxBackward0>)"
            ]
          },
          "metadata": {},
          "execution_count": 377
        }
      ]
    },
    {
      "cell_type": "markdown",
      "source": [
        "The outputs of the final layer is now mapped into a probability value of (0, 1). We see that the logit with the greatest value has the greatest probability and the logit with the smallest value has the least probability. So, it is just a simple mapping. Therefore, if we were just predicting using the model, we don't need the softmax activation. The softmax activation's probabilistic output is needed by the loss function (which uses the likelihood function under it) to compute the loss during training.\n",
        "\n",
        "Since the softmax function just computes the probability of each class with respect to other classes, the sum of the output of the softmax function is always 1 for a single training example."
      ],
      "metadata": {
        "id": "Dh54lGleXACu"
      }
    },
    {
      "cell_type": "code",
      "source": [
        "y_pred_probs.sum()"
      ],
      "metadata": {
        "colab": {
          "base_uri": "https://localhost:8080/"
        },
        "id": "DOb0aWBgWksf",
        "outputId": "a8787039-b3c2-43f1-fdb8-f2be06af0758"
      },
      "execution_count": null,
      "outputs": [
        {
          "output_type": "execute_result",
          "data": {
            "text/plain": [
              "tensor(1., device='cuda:0', grad_fn=<SumBackward0>)"
            ]
          },
          "metadata": {},
          "execution_count": 378
        }
      ]
    },
    {
      "cell_type": "code",
      "source": [
        "# Now, to return the predicted class, we return the index of the element in the array with the greatest probability.\n",
        "torch.argmax(y_pred_probs)"
      ],
      "metadata": {
        "colab": {
          "base_uri": "https://localhost:8080/"
        },
        "id": "LgU5XhZiYpcH",
        "outputId": "227b4419-fe62-42eb-fd6a-c34016254c3e"
      },
      "execution_count": null,
      "outputs": [
        {
          "output_type": "execute_result",
          "data": {
            "text/plain": [
              "tensor(2, device='cuda:0')"
            ]
          },
          "metadata": {},
          "execution_count": 379
        }
      ]
    },
    {
      "cell_type": "markdown",
      "source": [
        "**Training the model**"
      ],
      "metadata": {
        "id": "d2rCW1_UbkiS"
      }
    },
    {
      "cell_type": "code",
      "source": [
        "torch.manual_seed(42)\n",
        "\n",
        "epochs = 100\n",
        "for i in range(0, epochs):\n",
        "  model.train()\n",
        "  # Forward pass\n",
        "  logits = model(X_train).squeeze()\n",
        "\n",
        "  # Compute the loss. CrossEntropyLoss in PyTorch automatically converts the logits into prediction probabilites by applying the softmax activation function inside.\n",
        "  loss = loss_function(logits, y_train)\n",
        "\n",
        "  # Clear the gradients stored in the model parameters from previous training round.\n",
        "  optimizer.zero_grad()\n",
        "\n",
        "  # Backpropagation.\n",
        "  loss.backward()\n",
        "\n",
        "  # Update the model's parameters based on the gradients\n",
        "  optimizer.step()\n",
        "\n",
        "  # Test\n",
        "  model.eval()\n",
        "\n",
        "  with torch.no_grad():\n",
        "    logits = model(X_test) # Returns a tensor of a vector of logits\n",
        "\n",
        "    pred_probs = torch.softmax(logits, dim=0) # Returns a tensor of a vector of those logits converted into prediction probabilites for each class by applying the softmax function\n",
        "    pred_class = pred_probs.argmax(dim=1) # dim=1 means do the argmax for the second(inner) dimension. For each of those vector of prediction probabilities INSIDE the tensor(hence, dim=1), get the index of the element with\n",
        "    # the greatest probability.\n",
        "\n",
        "    test_accuracy = calculate_accuracy(y_pred=pred_class, y_true=y_test)\n",
        "\n",
        "    if i%10 == 0:\n",
        "      print(f\"R: {i}. Train Loss: {loss.item()}. Test accuracy: {test_accuracy}\")"
      ],
      "metadata": {
        "colab": {
          "base_uri": "https://localhost:8080/"
        },
        "id": "CCjI-uU5bdTq",
        "outputId": "530c4e3a-a479-4635-b5d5-a70f68b34e67"
      },
      "execution_count": null,
      "outputs": [
        {
          "output_type": "stream",
          "name": "stdout",
          "text": [
            "R: 0. Train Loss: 1.468027949333191. Test accuracy: 23.5\n",
            "R: 10. Train Loss: 1.1448378562927246. Test accuracy: 47.5\n",
            "R: 20. Train Loss: 1.0515263080596924. Test accuracy: 47.5\n",
            "R: 30. Train Loss: 1.0076161623001099. Test accuracy: 47.0\n",
            "R: 40. Train Loss: 0.9775826930999756. Test accuracy: 47.0\n",
            "R: 50. Train Loss: 0.9350364208221436. Test accuracy: 57.99999999999999\n",
            "R: 60. Train Loss: 0.8564333319664001. Test accuracy: 81.5\n",
            "R: 70. Train Loss: 0.7506409287452698. Test accuracy: 85.0\n",
            "R: 80. Train Loss: 0.6716897487640381. Test accuracy: 85.0\n",
            "R: 90. Train Loss: 0.6097838878631592. Test accuracy: 84.0\n"
          ]
        }
      ]
    }
  ]
}