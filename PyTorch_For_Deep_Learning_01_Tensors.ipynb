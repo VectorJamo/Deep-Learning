{
  "nbformat": 4,
  "nbformat_minor": 0,
  "metadata": {
    "colab": {
      "provenance": [],
      "authorship_tag": "ABX9TyOVKsQLx3ECZ0YFXczuRxfT",
      "include_colab_link": true
    },
    "kernelspec": {
      "name": "python3",
      "display_name": "Python 3"
    },
    "language_info": {
      "name": "python"
    }
  },
  "cells": [
    {
      "cell_type": "markdown",
      "metadata": {
        "id": "view-in-github",
        "colab_type": "text"
      },
      "source": [
        "<a href=\"https://colab.research.google.com/github/VectorJamo/Deep-Learning/blob/main/PyTorch_For_Deep_Learning_01_Tensors.ipynb\" target=\"_parent\"><img src=\"https://colab.research.google.com/assets/colab-badge.svg\" alt=\"Open In Colab\"/></a>"
      ]
    },
    {
      "cell_type": "markdown",
      "source": [
        "**Tensor Operations**"
      ],
      "metadata": {
        "id": "L3fQwG1zDYpP"
      }
    },
    {
      "cell_type": "code",
      "source": [
        "import torch\n",
        "import numpy as np\n",
        "import pandas as pd\n",
        "import matplotlib.pyplot as plt\n",
        "%matplotlib inline"
      ],
      "metadata": {
        "id": "SPuBGjGrDbhb"
      },
      "execution_count": null,
      "outputs": []
    },
    {
      "cell_type": "code",
      "source": [
        "print(torch.__version__)"
      ],
      "metadata": {
        "colab": {
          "base_uri": "https://localhost:8080/"
        },
        "id": "FvA6cNttDeKj",
        "outputId": "a5817468-3c41-46d0-9dfd-38299f061045"
      },
      "execution_count": null,
      "outputs": [
        {
          "output_type": "stream",
          "name": "stdout",
          "text": [
            "2.5.1+cu121\n"
          ]
        }
      ]
    },
    {
      "cell_type": "markdown",
      "source": [
        "## Introduction to Tensors\n",
        "### Creating Tensors"
      ],
      "metadata": {
        "id": "mdaXeyKiEhgQ"
      }
    },
    {
      "cell_type": "code",
      "source": [
        "# Introduction to Tensors\n",
        "# Tensors are a way to represent multi-dimensional data\n",
        "\n",
        "# Types of Tensors:\n",
        "# Scalar: 0 dimensional\n",
        "scalar = torch.tensor(3)\n",
        "scalar"
      ],
      "metadata": {
        "colab": {
          "base_uri": "https://localhost:8080/"
        },
        "id": "xzdYV7tpEARj",
        "outputId": "f9537cc3-dbd9-4275-95fd-ed3a5d86e11d"
      },
      "execution_count": null,
      "outputs": [
        {
          "output_type": "execute_result",
          "data": {
            "text/plain": [
              "tensor(3)"
            ]
          },
          "metadata": {},
          "execution_count": 3
        }
      ]
    },
    {
      "cell_type": "code",
      "source": [
        "scalar.ndim # Prints the number of dimensions of the Tensor"
      ],
      "metadata": {
        "colab": {
          "base_uri": "https://localhost:8080/"
        },
        "id": "0CV5P6TuHnks",
        "outputId": "7b70a992-e51a-48c4-b7ba-8db696970f73"
      },
      "execution_count": null,
      "outputs": [
        {
          "output_type": "execute_result",
          "data": {
            "text/plain": [
              "0"
            ]
          },
          "metadata": {},
          "execution_count": 4
        }
      ]
    },
    {
      "cell_type": "code",
      "source": [
        "scalar.item() # Returns the item stored by the tensor object in basic datatype form (Works with only scalars)"
      ],
      "metadata": {
        "colab": {
          "base_uri": "https://localhost:8080/"
        },
        "id": "67RyPFabIPZ5",
        "outputId": "88df7a2e-63c1-4eb5-bed5-54c3ed55fd05"
      },
      "execution_count": null,
      "outputs": [
        {
          "output_type": "execute_result",
          "data": {
            "text/plain": [
              "3"
            ]
          },
          "metadata": {},
          "execution_count": 5
        }
      ]
    },
    {
      "cell_type": "code",
      "source": [
        "# Vector: 1 dimensional\n",
        "vector = torch.tensor([1, 2, 3])\n",
        "vector"
      ],
      "metadata": {
        "colab": {
          "base_uri": "https://localhost:8080/"
        },
        "id": "6Jb-e1cVIrgi",
        "outputId": "ac2184ae-d698-4d20-8709-cea062e38fe4"
      },
      "execution_count": null,
      "outputs": [
        {
          "output_type": "execute_result",
          "data": {
            "text/plain": [
              "tensor([1, 2, 3])"
            ]
          },
          "metadata": {},
          "execution_count": 6
        }
      ]
    },
    {
      "cell_type": "code",
      "source": [
        "# You can tell the number of dimensions of a tensor in PyTorch has by the number of square brackets on the outside ([) and you only need to count one side\n",
        "vector.ndim"
      ],
      "metadata": {
        "colab": {
          "base_uri": "https://localhost:8080/"
        },
        "id": "GHWhIY-fIyTK",
        "outputId": "18d92f89-4b76-4a1a-93a7-5af337a55ae6"
      },
      "execution_count": null,
      "outputs": [
        {
          "output_type": "execute_result",
          "data": {
            "text/plain": [
              "1"
            ]
          },
          "metadata": {},
          "execution_count": 7
        }
      ]
    },
    {
      "cell_type": "code",
      "source": [
        "vector.shape # Single row of data"
      ],
      "metadata": {
        "colab": {
          "base_uri": "https://localhost:8080/"
        },
        "id": "CbchD-JYIz0q",
        "outputId": "aeca2acc-9352-4faa-ab66-3a3875a59a8e"
      },
      "execution_count": null,
      "outputs": [
        {
          "output_type": "execute_result",
          "data": {
            "text/plain": [
              "torch.Size([3])"
            ]
          },
          "metadata": {},
          "execution_count": 8
        }
      ]
    },
    {
      "cell_type": "code",
      "source": [
        "# Matrix: 2 dimensional\n",
        "matrix = torch.tensor([[1, 2],\n",
        "                       [3, 4]])\n",
        "matrix"
      ],
      "metadata": {
        "colab": {
          "base_uri": "https://localhost:8080/"
        },
        "id": "hwQ2SmcHI1m5",
        "outputId": "50fbf21f-e22c-437a-9dde-797687dd9db5"
      },
      "execution_count": null,
      "outputs": [
        {
          "output_type": "execute_result",
          "data": {
            "text/plain": [
              "tensor([[1, 2],\n",
              "        [3, 4]])"
            ]
          },
          "metadata": {},
          "execution_count": 9
        }
      ]
    },
    {
      "cell_type": "code",
      "source": [
        "matrix.ndim"
      ],
      "metadata": {
        "colab": {
          "base_uri": "https://localhost:8080/"
        },
        "id": "BjU6b_xcJX6E",
        "outputId": "3c34f642-360b-47e7-9181-16eec8a9fe21"
      },
      "execution_count": null,
      "outputs": [
        {
          "output_type": "execute_result",
          "data": {
            "text/plain": [
              "2"
            ]
          },
          "metadata": {},
          "execution_count": 10
        }
      ]
    },
    {
      "cell_type": "code",
      "source": [
        "matrix.shape # 2 Rows and 2 columns of data"
      ],
      "metadata": {
        "colab": {
          "base_uri": "https://localhost:8080/"
        },
        "id": "5oqD3NieJY9C",
        "outputId": "ab87cf4e-15d4-4ba5-ebd4-3fb3cdf8f8d9"
      },
      "execution_count": null,
      "outputs": [
        {
          "output_type": "execute_result",
          "data": {
            "text/plain": [
              "torch.Size([2, 2])"
            ]
          },
          "metadata": {},
          "execution_count": 11
        }
      ]
    },
    {
      "cell_type": "code",
      "source": [
        "# n-dimensional tensor\n",
        "# 3 dimesional tensor: Collection of 2 dimensional tensors(matrices)\n",
        "\n",
        "tensor = torch.tensor([[[1, 2],\n",
        "                        [3, 4]],\n",
        "                        [[9, 8],\n",
        "                        [7, 6]]])\n",
        "tensor"
      ],
      "metadata": {
        "colab": {
          "base_uri": "https://localhost:8080/"
        },
        "id": "elhIuETkJaMR",
        "outputId": "cff3b959-2381-4cac-8f45-3483b6fc08c6"
      },
      "execution_count": null,
      "outputs": [
        {
          "output_type": "execute_result",
          "data": {
            "text/plain": [
              "tensor([[[1, 2],\n",
              "         [3, 4]],\n",
              "\n",
              "        [[9, 8],\n",
              "         [7, 6]]])"
            ]
          },
          "metadata": {},
          "execution_count": 12
        }
      ]
    },
    {
      "cell_type": "code",
      "source": [
        "tensor.ndim"
      ],
      "metadata": {
        "colab": {
          "base_uri": "https://localhost:8080/"
        },
        "id": "KEbv7grLKCJ7",
        "outputId": "c83fe703-d6e8-437a-dee9-b30c0f1612d5"
      },
      "execution_count": null,
      "outputs": [
        {
          "output_type": "execute_result",
          "data": {
            "text/plain": [
              "3"
            ]
          },
          "metadata": {},
          "execution_count": 13
        }
      ]
    },
    {
      "cell_type": "code",
      "source": [
        "tensor.shape # 2 collections of 2x2 matrices.\n",
        "# The first dimension has 2 elements(the actual numeric data).\n",
        "# The second dimension has 2 elements(two rows of data).\n",
        "# The third dimension has 2 elements(two rows and columns of data)"
      ],
      "metadata": {
        "colab": {
          "base_uri": "https://localhost:8080/"
        },
        "id": "IA7yYkwjKGGR",
        "outputId": "a6fa1da8-ebf8-4d3c-ac98-d71a3ddd898f"
      },
      "execution_count": null,
      "outputs": [
        {
          "output_type": "execute_result",
          "data": {
            "text/plain": [
              "torch.Size([2, 2, 2])"
            ]
          },
          "metadata": {},
          "execution_count": 14
        }
      ]
    },
    {
      "cell_type": "markdown",
      "source": [
        "  ### Tensors With Random Values\n"
      ],
      "metadata": {
        "id": "5jIvA_2NLdIu"
      }
    },
    {
      "cell_type": "code",
      "source": [
        "tensor = torch.rand(size=(2, 2, 2)) # Create a 3d tensor. A tensor that holds 2, 2x2 matrices\n",
        "tensor"
      ],
      "metadata": {
        "id": "Zwa7cf41Ljd0",
        "colab": {
          "base_uri": "https://localhost:8080/"
        },
        "outputId": "4117c995-f0a1-4829-cd59-d088743b1f4f"
      },
      "execution_count": null,
      "outputs": [
        {
          "output_type": "execute_result",
          "data": {
            "text/plain": [
              "tensor([[[0.9851, 0.3795],\n",
              "         [0.6795, 0.5874]],\n",
              "\n",
              "        [[0.9655, 0.7793],\n",
              "         [0.6873, 0.3855]]])"
            ]
          },
          "metadata": {},
          "execution_count": 15
        }
      ]
    },
    {
      "cell_type": "code",
      "source": [
        "tensor = torch.rand(3) # Create a 1d tensor of 3 random elements\n",
        "tensor"
      ],
      "metadata": {
        "id": "oljzoMOmqWdl",
        "colab": {
          "base_uri": "https://localhost:8080/"
        },
        "outputId": "a7e679d4-7c1f-43e6-999a-15d7ca1b562d"
      },
      "execution_count": null,
      "outputs": [
        {
          "output_type": "execute_result",
          "data": {
            "text/plain": [
              "tensor([0.3740, 0.9579, 0.4658])"
            ]
          },
          "metadata": {},
          "execution_count": 16
        }
      ]
    },
    {
      "cell_type": "code",
      "source": [
        "# Create a tensor with all zeros and ones\n",
        "tensor = torch.ones(4)\n",
        "tensor"
      ],
      "metadata": {
        "colab": {
          "base_uri": "https://localhost:8080/"
        },
        "id": "mj5MI-z0aKRQ",
        "outputId": "480578bf-ddb1-4d7d-db5c-18aabf3275b3"
      },
      "execution_count": null,
      "outputs": [
        {
          "output_type": "execute_result",
          "data": {
            "text/plain": [
              "tensor([1., 1., 1., 1.])"
            ]
          },
          "metadata": {},
          "execution_count": 17
        }
      ]
    },
    {
      "cell_type": "code",
      "source": [
        "tensor = torch.zeros(4)\n",
        "tensor"
      ],
      "metadata": {
        "colab": {
          "base_uri": "https://localhost:8080/"
        },
        "id": "ntM1plCVazYY",
        "outputId": "a17aceda-8f09-40f0-d7ab-fb98d6d7602a"
      },
      "execution_count": null,
      "outputs": [
        {
          "output_type": "execute_result",
          "data": {
            "text/plain": [
              "tensor([0., 0., 0., 0.])"
            ]
          },
          "metadata": {},
          "execution_count": 18
        }
      ]
    },
    {
      "cell_type": "code",
      "source": [
        "tensor = torch.zeros(size=(2, 3))\n",
        "tensor"
      ],
      "metadata": {
        "colab": {
          "base_uri": "https://localhost:8080/"
        },
        "id": "_pxJtfq3a2WJ",
        "outputId": "e1c650f3-8700-44e6-dadd-42dceaa5545b"
      },
      "execution_count": null,
      "outputs": [
        {
          "output_type": "execute_result",
          "data": {
            "text/plain": [
              "tensor([[0., 0., 0.],\n",
              "        [0., 0., 0.]])"
            ]
          },
          "metadata": {},
          "execution_count": 19
        }
      ]
    },
    {
      "cell_type": "markdown",
      "source": [
        "### Range Based Tensors\n",
        "#### Use `torch.arange(start, stop, step)`"
      ],
      "metadata": {
        "id": "b0lcZ_Vwa7ap"
      }
    },
    {
      "cell_type": "code",
      "source": [
        "tensor = torch.arange(0, 10, 1)\n",
        "tensor"
      ],
      "metadata": {
        "colab": {
          "base_uri": "https://localhost:8080/"
        },
        "id": "Wz867Q0dbpcH",
        "outputId": "9bc9180f-55fb-472e-d0c5-d2850d54f36f"
      },
      "execution_count": null,
      "outputs": [
        {
          "output_type": "execute_result",
          "data": {
            "text/plain": [
              "tensor([0, 1, 2, 3, 4, 5, 6, 7, 8, 9])"
            ]
          },
          "metadata": {},
          "execution_count": 20
        }
      ]
    },
    {
      "cell_type": "code",
      "source": [
        "tensor = torch.arange(-10, 10, 2)\n",
        "tensor"
      ],
      "metadata": {
        "colab": {
          "base_uri": "https://localhost:8080/"
        },
        "id": "Co5854NUbwCf",
        "outputId": "e877964b-6191-479d-8689-6ad456df6566"
      },
      "execution_count": null,
      "outputs": [
        {
          "output_type": "execute_result",
          "data": {
            "text/plain": [
              "tensor([-10,  -8,  -6,  -4,  -2,   0,   2,   4,   6,   8])"
            ]
          },
          "metadata": {},
          "execution_count": 21
        }
      ]
    },
    {
      "cell_type": "markdown",
      "source": [
        "### Tensor Datatypes"
      ],
      "metadata": {
        "id": "zzXvejNlb5Bw"
      }
    },
    {
      "cell_type": "code",
      "source": [
        "# Default datatype for tensors is float32\n",
        "float_32_tensor = torch.tensor([3.0, 6.0, 9.0],\n",
        "                               dtype=None, # defaults to None, which is torch.float32 or whatever datatype is passed\n",
        "                               device=None, # defaults to None, which uses the default tensor type\n",
        "                               requires_grad=False) # if True, operations performed on the tensor are recorded\n",
        "\n",
        "float_32_tensor.shape, float_32_tensor.dtype, float_32_tensor.device"
      ],
      "metadata": {
        "colab": {
          "base_uri": "https://localhost:8080/"
        },
        "id": "sXYD0iO9cr2e",
        "outputId": "e2f3838a-14d8-48a9-a82d-4e8ea9106eed"
      },
      "execution_count": null,
      "outputs": [
        {
          "output_type": "execute_result",
          "data": {
            "text/plain": [
              "(torch.Size([3]), torch.float32, device(type='cpu'))"
            ]
          },
          "metadata": {},
          "execution_count": 22
        }
      ]
    },
    {
      "cell_type": "markdown",
      "source": [
        "### Tensor Operations"
      ],
      "metadata": {
        "id": "A_7mC3Fwcy0n"
      }
    },
    {
      "cell_type": "code",
      "source": [
        "tensor = torch.tensor([1, 2, 3])\n",
        "tensor + 10 # Adds 10 to each element in the tensor"
      ],
      "metadata": {
        "colab": {
          "base_uri": "https://localhost:8080/"
        },
        "id": "1zLGjEyKdqvX",
        "outputId": "5b246c70-0257-42a4-ac8c-29d8deb23e45"
      },
      "execution_count": null,
      "outputs": [
        {
          "output_type": "execute_result",
          "data": {
            "text/plain": [
              "tensor([11, 12, 13])"
            ]
          },
          "metadata": {},
          "execution_count": 23
        }
      ]
    },
    {
      "cell_type": "code",
      "source": [
        "tensor = torch.rand(size=(2, 2, 2))\n",
        "tensor + 10 # Adds 10 to each element in the tensor (Same for higher dimensional tensors)"
      ],
      "metadata": {
        "colab": {
          "base_uri": "https://localhost:8080/"
        },
        "id": "MY1cPfp8dylP",
        "outputId": "fd7eb8c2-6605-40aa-9279-5532829c2eba"
      },
      "execution_count": null,
      "outputs": [
        {
          "output_type": "execute_result",
          "data": {
            "text/plain": [
              "tensor([[[10.5053, 10.4860],\n",
              "         [10.4276, 10.7747]],\n",
              "\n",
              "        [[10.6074, 10.1224],\n",
              "         [10.7934, 10.4855]]])"
            ]
          },
          "metadata": {},
          "execution_count": 24
        }
      ]
    },
    {
      "cell_type": "code",
      "source": [
        "tensor * 10 # Multiplies each element of the tensor with 10"
      ],
      "metadata": {
        "colab": {
          "base_uri": "https://localhost:8080/"
        },
        "id": "SdGOiFdvd5Uv",
        "outputId": "d119874d-6296-427a-cd82-cb785ada4c7b"
      },
      "execution_count": null,
      "outputs": [
        {
          "output_type": "execute_result",
          "data": {
            "text/plain": [
              "tensor([[[5.0533, 4.8600],\n",
              "         [4.2760, 7.7471]],\n",
              "\n",
              "        [[6.0736, 1.2237],\n",
              "         [7.9345, 4.8552]]])"
            ]
          },
          "metadata": {},
          "execution_count": 25
        }
      ]
    },
    {
      "cell_type": "code",
      "source": [
        "tensor - 10 # Subtracts each element of the tensor by 10"
      ],
      "metadata": {
        "colab": {
          "base_uri": "https://localhost:8080/"
        },
        "id": "JBRqXxx5eBNf",
        "outputId": "285d51a8-3ee5-4aa7-da58-688b9aa184d2"
      },
      "execution_count": null,
      "outputs": [
        {
          "output_type": "execute_result",
          "data": {
            "text/plain": [
              "tensor([[[-9.4947, -9.5140],\n",
              "         [-9.5724, -9.2253]],\n",
              "\n",
              "        [[-9.3926, -9.8776],\n",
              "         [-9.2066, -9.5145]]])"
            ]
          },
          "metadata": {},
          "execution_count": 26
        }
      ]
    },
    {
      "cell_type": "markdown",
      "source": [
        "#### Matrix Multiplication\n",
        "##### One of the most common operations in machine learning and deep learning algorithms (like neural networks) is matrix multiplication.\n",
        "##### PyTorch implements matrix multiplication functionality in the `torch.matmul()` or `torch.mm()` method.\n"
      ],
      "metadata": {
        "id": "0krGXU78eKk-"
      }
    },
    {
      "cell_type": "code",
      "source": [
        "tensor1 = torch.tensor([1, 2, 3]) # 1x2 matrix\n",
        "tensor2 = torch.tensor([4, 5, 6]) # 1x2 matrix\n",
        "\n",
        "tensor3 = tensor1.matmul(tensor2) # [1*4 + 2*5 + 3*6]. Regular matrix multiplication.\n",
        "tensor3"
      ],
      "metadata": {
        "colab": {
          "base_uri": "https://localhost:8080/"
        },
        "id": "K2WcW2PhegfC",
        "outputId": "f5630834-3150-4fab-f0ca-cba2b3d54cb8"
      },
      "execution_count": null,
      "outputs": [
        {
          "output_type": "execute_result",
          "data": {
            "text/plain": [
              "tensor(32)"
            ]
          },
          "metadata": {},
          "execution_count": 27
        }
      ]
    },
    {
      "cell_type": "markdown",
      "source": [
        "All the same rules of matrix multiplications apply"
      ],
      "metadata": {
        "id": "_VtEhATXfQR6"
      }
    },
    {
      "cell_type": "code",
      "source": [
        "tensor1 = torch.rand(size=(2, 2))\n",
        "tensor2 = torch.rand(size=(2, 2))\n",
        "tensor3 = tensor1.matmul(tensor2)\n",
        "tensor3"
      ],
      "metadata": {
        "colab": {
          "base_uri": "https://localhost:8080/"
        },
        "id": "C8Yv-oHpfHRw",
        "outputId": "d82603b7-744b-4462-df07-199bd8a3a7c7"
      },
      "execution_count": null,
      "outputs": [
        {
          "output_type": "execute_result",
          "data": {
            "text/plain": [
              "tensor([[0.2798, 0.4937],\n",
              "        [0.1391, 0.3746]])"
            ]
          },
          "metadata": {},
          "execution_count": 28
        }
      ]
    },
    {
      "cell_type": "code",
      "source": [
        "tensor1 = torch.rand(size=(1, 2, 2))\n",
        "tensor2 = torch.rand(size=(2, 2, 2))\n",
        "tensor3 = tensor1.matmul(tensor2)\n",
        "tensor3"
      ],
      "metadata": {
        "colab": {
          "base_uri": "https://localhost:8080/"
        },
        "id": "Q_8TKsuTfopV",
        "outputId": "aa03df21-17e5-4dc1-f386-294b6dffb3a6"
      },
      "execution_count": null,
      "outputs": [
        {
          "output_type": "execute_result",
          "data": {
            "text/plain": [
              "tensor([[[0.2804, 0.6354],\n",
              "         [0.4516, 1.0212]],\n",
              "\n",
              "        [[0.3530, 0.5409],\n",
              "         [0.5710, 0.8702]]])"
            ]
          },
          "metadata": {},
          "execution_count": 29
        }
      ]
    },
    {
      "cell_type": "markdown",
      "source": [
        "Transposing matrices to make matrix multiplication work"
      ],
      "metadata": {
        "id": "cH2aP8xfgk9S"
      }
    },
    {
      "cell_type": "code",
      "source": [
        "tensor1 = torch.tensor([[1, 2, 3, 4],\n",
        "                       [5, 6, 7, 8],\n",
        "                       [9, 10, 11, 12]])\n",
        "tensor2 = torch.tensor([[1, 2, 3, 4],\n",
        "                       [5, 6, 7, 8],\n",
        "                       [9, 10, 11, 12]])\n"
      ],
      "metadata": {
        "id": "1pPSVqcAf4D-"
      },
      "execution_count": null,
      "outputs": []
    },
    {
      "cell_type": "code",
      "source": [
        "tensor2 = torch.transpose(tensor2, 0, 1)"
      ],
      "metadata": {
        "id": "KId-PjC-gtW2"
      },
      "execution_count": null,
      "outputs": []
    },
    {
      "cell_type": "code",
      "source": [
        "torch.mm(tensor1, tensor2)"
      ],
      "metadata": {
        "colab": {
          "base_uri": "https://localhost:8080/"
        },
        "id": "jmFgwWK8gt9p",
        "outputId": "bdc8a71f-9162-4fd6-dd92-8c3eeb6c0398"
      },
      "execution_count": null,
      "outputs": [
        {
          "output_type": "execute_result",
          "data": {
            "text/plain": [
              "tensor([[ 30,  70, 110],\n",
              "        [ 70, 174, 278],\n",
              "        [110, 278, 446]])"
            ]
          },
          "metadata": {},
          "execution_count": 32
        }
      ]
    },
    {
      "cell_type": "markdown",
      "source": [
        "Neural networks are full of matrix multiplications and dot products.\n",
        "\n",
        "The `torch.nn.Linear()` module, also known as a feed-forward layer or fully connected layer, implements a matrix multiplication between an input x and a weights matrix W.\n",
        "\n",
        "X = Total inputs to a NN layer. It is a matrix of **no. of neurons on the current layer times the number of neurons on the previous layer**\n",
        "Hence, each row of matrix X will be fed into a neuron on that layer.\n",
        "\n",
        "W = Weights of that layer. It has the same dimension as X. Each row of the weights matrix will be the weight of a particular neuron in that layer."
      ],
      "metadata": {
        "id": "C58cjij8ldeI"
      }
    },
    {
      "cell_type": "code",
      "source": [
        "# Five input samples of containing 2 elements each (5x2 matrix)\n",
        "input_x = torch.tensor([1, 2], dtype=torch.float32)\n",
        "\n",
        "# Since the linear layer starts with a random weights matrix, let's make it reproducible (more on this later)\n",
        "torch.manual_seed(42)\n",
        "\n",
        "# This uses matrix multiplication\n",
        "linear = torch.nn.Linear(in_features=2, # in_features = size of each input sample (2)\n",
        "                         out_features=6) # out_features = size of the output sample for an input sample of size 2 (6)\n",
        "# This is exactly what happens in a layer of a Feed Forward Neural Network\n",
        "\n",
        "# The in_features and out_features, apart from defining our layer, also defines the shape of the weight matrix.\n",
        "# Here, input matrix -> 1x2, weight matrix -> 6x2. Operation -> input*weight(transposed) + bias(bias = 0 in this case)\n",
        "output = linear(input_x)\n",
        "print(f\"Input shape: {input_x.shape}\\n\")\n",
        "print(f\"Output:\\n{output}\\n\\nOutput shape: {output.shape}\")"
      ],
      "metadata": {
        "colab": {
          "base_uri": "https://localhost:8080/"
        },
        "id": "7GYYsDQBl2ei",
        "outputId": "76253155-e7b9-43a0-86d9-91ce377ae739"
      },
      "execution_count": null,
      "outputs": [
        {
          "output_type": "stream",
          "name": "stdout",
          "text": [
            "Input shape: torch.Size([2])\n",
            "\n",
            "Output:\n",
            "tensor([2.2368, 1.2292, 0.4714, 0.3864, 0.1309, 0.9838],\n",
            "       grad_fn=<ViewBackward0>)\n",
            "\n",
            "Output shape: torch.Size([6])\n"
          ]
        }
      ]
    },
    {
      "cell_type": "markdown",
      "source": [
        "### Finding the min, max, mean, sum, etc (aggregation)"
      ],
      "metadata": {
        "id": "0HHLRMCjsvTW"
      }
    },
    {
      "cell_type": "code",
      "source": [
        "x = torch.arange(1, 10, 1)\n",
        "x"
      ],
      "metadata": {
        "colab": {
          "base_uri": "https://localhost:8080/"
        },
        "id": "zoYzbABjszYX",
        "outputId": "8d470508-e170-49e4-99dd-083433bc0147"
      },
      "execution_count": null,
      "outputs": [
        {
          "output_type": "execute_result",
          "data": {
            "text/plain": [
              "tensor([1, 2, 3, 4, 5, 6, 7, 8, 9])"
            ]
          },
          "metadata": {},
          "execution_count": 34
        }
      ]
    },
    {
      "cell_type": "code",
      "source": [
        "print(f\"Minimum: {x.min()}\")\n",
        "print(f\"Maximum: {x.max()}\")\n",
        "# print(f\"Mean: {x.mean()}\") # this will error\n",
        "print(f\"Mean: {x.type(torch.float32).mean()}\") # won't work without float datatype\n",
        "print(f\"Sum: {x.sum()}\")"
      ],
      "metadata": {
        "colab": {
          "base_uri": "https://localhost:8080/"
        },
        "id": "KtA7vqX5s3Ap",
        "outputId": "7040d1b3-88d9-473e-e89e-ec898fc7bb2b"
      },
      "execution_count": null,
      "outputs": [
        {
          "output_type": "stream",
          "name": "stdout",
          "text": [
            "Minimum: 1\n",
            "Maximum: 9\n",
            "Mean: 5.0\n",
            "Sum: 45\n"
          ]
        }
      ]
    },
    {
      "cell_type": "code",
      "source": [
        "# Returns index of max and min values\n",
        "print(f\"Index where max value occurs: {x.argmax()}\")\n",
        "print(f\"Index where min value occurs: {x.argmin()}\")"
      ],
      "metadata": {
        "colab": {
          "base_uri": "https://localhost:8080/"
        },
        "id": "3-ok0EMqs6V4",
        "outputId": "f607bd50-9d4e-4eb7-a02a-4fddaa4fd90f"
      },
      "execution_count": null,
      "outputs": [
        {
          "output_type": "stream",
          "name": "stdout",
          "text": [
            "Index where max value occurs: 8\n",
            "Index where min value occurs: 0\n"
          ]
        }
      ]
    },
    {
      "cell_type": "markdown",
      "source": [
        "### Change Tensor datatype"
      ],
      "metadata": {
        "id": "keqKzy7CtAE0"
      }
    },
    {
      "cell_type": "code",
      "source": [
        "# Create a tensor and check its datatype\n",
        "x = torch.arange(10.0, 100.0, 10.0)\n",
        "x"
      ],
      "metadata": {
        "colab": {
          "base_uri": "https://localhost:8080/"
        },
        "id": "zI5bUEbXtK4f",
        "outputId": "df8214d7-8d5e-4226-9d1f-e5f7c577e789"
      },
      "execution_count": null,
      "outputs": [
        {
          "output_type": "execute_result",
          "data": {
            "text/plain": [
              "tensor([10., 20., 30., 40., 50., 60., 70., 80., 90.])"
            ]
          },
          "metadata": {},
          "execution_count": 37
        }
      ]
    },
    {
      "cell_type": "code",
      "source": [
        "x.dtype"
      ],
      "metadata": {
        "colab": {
          "base_uri": "https://localhost:8080/"
        },
        "id": "SY_tZHy5txcI",
        "outputId": "5144d8b6-cec7-4b17-9331-4499d222e03e"
      },
      "execution_count": null,
      "outputs": [
        {
          "output_type": "execute_result",
          "data": {
            "text/plain": [
              "torch.float32"
            ]
          },
          "metadata": {},
          "execution_count": 38
        }
      ]
    },
    {
      "cell_type": "code",
      "source": [
        "# Create a float16 tensor\n",
        "x_int32 = x.type(torch.int32)\n",
        "x_int32"
      ],
      "metadata": {
        "colab": {
          "base_uri": "https://localhost:8080/"
        },
        "id": "mlAhh4KrtaCR",
        "outputId": "49ae04bb-98fe-42ee-9bcf-6d49be823ba0"
      },
      "execution_count": null,
      "outputs": [
        {
          "output_type": "execute_result",
          "data": {
            "text/plain": [
              "tensor([10, 20, 30, 40, 50, 60, 70, 80, 90], dtype=torch.int32)"
            ]
          },
          "metadata": {},
          "execution_count": 39
        }
      ]
    },
    {
      "cell_type": "code",
      "source": [
        "x_int32.dtype"
      ],
      "metadata": {
        "colab": {
          "base_uri": "https://localhost:8080/"
        },
        "id": "qSeg_MA7thVI",
        "outputId": "b1055bb0-2097-4408-d56f-19a242f01d14"
      },
      "execution_count": null,
      "outputs": [
        {
          "output_type": "execute_result",
          "data": {
            "text/plain": [
              "torch.int32"
            ]
          },
          "metadata": {},
          "execution_count": 40
        }
      ]
    },
    {
      "cell_type": "markdown",
      "source": [
        "### Reshaping and stacking"
      ],
      "metadata": {
        "id": "w5PjIL8UGaox"
      }
    },
    {
      "cell_type": "code",
      "source": [
        "x = torch.tensor([1, 2, 3, 4, 5])\n",
        "x, x.shape"
      ],
      "metadata": {
        "colab": {
          "base_uri": "https://localhost:8080/"
        },
        "id": "Wn5whZT8GeVS",
        "outputId": "c66dd70c-1ecd-4462-8aa8-1b7791bce716"
      },
      "execution_count": null,
      "outputs": [
        {
          "output_type": "execute_result",
          "data": {
            "text/plain": [
              "(tensor([1, 2, 3, 4, 5]), torch.Size([5]))"
            ]
          },
          "metadata": {},
          "execution_count": 42
        }
      ]
    },
    {
      "cell_type": "code",
      "source": [
        "x = x.reshape(1, 5) # Add an extra dimension with reshape(new size)\n",
        "x"
      ],
      "metadata": {
        "colab": {
          "base_uri": "https://localhost:8080/"
        },
        "id": "LtFbs28MHFTp",
        "outputId": "a04e92c5-50a5-4bb9-b93b-470a1409b3b3"
      },
      "execution_count": null,
      "outputs": [
        {
          "output_type": "execute_result",
          "data": {
            "text/plain": [
              "tensor([[1, 2, 3, 4, 5]])"
            ]
          },
          "metadata": {},
          "execution_count": 51
        }
      ]
    },
    {
      "cell_type": "code",
      "source": [
        "x.shape"
      ],
      "metadata": {
        "colab": {
          "base_uri": "https://localhost:8080/"
        },
        "id": "KK0r3R-XHNAw",
        "outputId": "54fe02ee-a8e6-4031-846d-79d53e84982d"
      },
      "execution_count": null,
      "outputs": [
        {
          "output_type": "execute_result",
          "data": {
            "text/plain": [
              "torch.Size([1, 5])"
            ]
          },
          "metadata": {},
          "execution_count": 52
        }
      ]
    },
    {
      "cell_type": "code",
      "source": [
        "x_stacked = torch.stack([x, x, x, x])\n",
        "x_stacked"
      ],
      "metadata": {
        "colab": {
          "base_uri": "https://localhost:8080/"
        },
        "id": "w6L3elKvHO_6",
        "outputId": "825e37bb-e9b7-46ba-cbbd-457a4f352349"
      },
      "execution_count": null,
      "outputs": [
        {
          "output_type": "execute_result",
          "data": {
            "text/plain": [
              "tensor([[[1, 2, 3, 4, 5]],\n",
              "\n",
              "        [[1, 2, 3, 4, 5]],\n",
              "\n",
              "        [[1, 2, 3, 4, 5]],\n",
              "\n",
              "        [[1, 2, 3, 4, 5]]])"
            ]
          },
          "metadata": {},
          "execution_count": 54
        }
      ]
    },
    {
      "cell_type": "code",
      "source": [
        "x1 = torch.tensor([1, 2, 3, 4])\n",
        "x2 = torch.tensor([5, 6, 7, 8])\n",
        "x3 = torch.stack([x1, x2])\n",
        "x3"
      ],
      "metadata": {
        "colab": {
          "base_uri": "https://localhost:8080/"
        },
        "id": "uFr9H3ydHsra",
        "outputId": "c9c41c30-9af4-4c04-8594-6e176fa7113d"
      },
      "execution_count": null,
      "outputs": [
        {
          "output_type": "execute_result",
          "data": {
            "text/plain": [
              "tensor([[1, 2, 3, 4],\n",
              "        [5, 6, 7, 8]])"
            ]
          },
          "metadata": {},
          "execution_count": 55
        }
      ]
    },
    {
      "cell_type": "markdown",
      "source": [
        "### Indexing: Selecting data from Tensors\n",
        "#### If you've ever done indexing on Python lists or NumPy arrays, indexing in PyTorch with tensors is very similar."
      ],
      "metadata": {
        "id": "xhoIIJ-UH4BW"
      }
    },
    {
      "cell_type": "code",
      "source": [
        "x = torch.arange(1, 10).reshape(1, 3, 3)\n",
        "x, x.shape"
      ],
      "metadata": {
        "colab": {
          "base_uri": "https://localhost:8080/"
        },
        "id": "UTy9HlwGIFTv",
        "outputId": "0387aff8-2fa1-460b-9964-95cb459ca217"
      },
      "execution_count": null,
      "outputs": [
        {
          "output_type": "execute_result",
          "data": {
            "text/plain": [
              "(tensor([[[1, 2, 3],\n",
              "          [4, 5, 6],\n",
              "          [7, 8, 9]]]),\n",
              " torch.Size([1, 3, 3]))"
            ]
          },
          "metadata": {},
          "execution_count": 57
        }
      ]
    },
    {
      "cell_type": "code",
      "source": [
        "# Indexing values goes outer dimension -> inner dimension (check out the square brackets).\n",
        "# Let's index bracket by bracket\n",
        "print(f\"First square bracket:\\n{x[0]}\")\n",
        "print(f\"Second square bracket: {x[0][0]}\")\n",
        "print(f\"Third square bracket: {x[0][0][0]}\")"
      ],
      "metadata": {
        "colab": {
          "base_uri": "https://localhost:8080/"
        },
        "id": "jINgSKK7IOSv",
        "outputId": "3a6c14ef-6358-438d-8d28-96e5aef63838"
      },
      "execution_count": null,
      "outputs": [
        {
          "output_type": "stream",
          "name": "stdout",
          "text": [
            "First square bracket:\n",
            "tensor([[1, 2, 3],\n",
            "        [4, 5, 6],\n",
            "        [7, 8, 9]])\n",
            "Second square bracket: tensor([1, 2, 3])\n",
            "Third square bracket: 1\n"
          ]
        }
      ]
    },
    {
      "cell_type": "code",
      "source": [
        "# Get ALL values of 0th dimension (most outer dimension) and the 0 index of 1st dimension\n",
        "x[:, 0]"
      ],
      "metadata": {
        "colab": {
          "base_uri": "https://localhost:8080/"
        },
        "id": "XgWkkNhOIRgW",
        "outputId": "c72ae820-5762-4ff7-d3ad-21e22ef27bb1"
      },
      "execution_count": null,
      "outputs": [
        {
          "output_type": "execute_result",
          "data": {
            "text/plain": [
              "tensor([[1, 2, 3]])"
            ]
          },
          "metadata": {},
          "execution_count": 59
        }
      ]
    },
    {
      "cell_type": "code",
      "source": [
        "# Get all values of 0th & 1st dimensions but only index 1 of 2nd dimension\n",
        "x[:, :, 1]"
      ],
      "metadata": {
        "colab": {
          "base_uri": "https://localhost:8080/"
        },
        "id": "vINaH8vAIqDH",
        "outputId": "317b433a-e5e0-4853-fefa-9136166b4c7a"
      },
      "execution_count": null,
      "outputs": [
        {
          "output_type": "execute_result",
          "data": {
            "text/plain": [
              "tensor([[2, 5, 8]])"
            ]
          },
          "metadata": {},
          "execution_count": 60
        }
      ]
    },
    {
      "cell_type": "code",
      "source": [],
      "metadata": {
        "id": "o9Fs72MxIzlA"
      },
      "execution_count": null,
      "outputs": []
    }
  ]
}